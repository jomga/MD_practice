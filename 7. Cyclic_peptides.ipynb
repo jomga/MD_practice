{
 "cells": [
  {
   "cell_type": "markdown",
   "id": "5e538293-bdeb-4502-b503-b0b390ec1739",
   "metadata": {},
   "source": [
    "# Ligand preperations using OpenMM, RDkit, OpenFF and GaFF\n",
    "\n",
    "The ligand preparation process is crucial when constructing protein-ligand complexes for molecular dynamics (MD) simulations. However, issues can arise when non-standard residues or ligands are present due to the constraints of classical forcefields. Remember that classical MD essentially refers to a parameterized list of bonds, angles, torsion angles, and non-bonded interaction parameters, aiming to replicate chemically reasonable behavior. This process is relatively straightforward for standard biomolecular structures like proteins, RNA, or DNA, which are composed of repeating units.\n",
    "\n",
    "Ligands, however, can present challenges. Their novel connectivity or unusual elements make the construction of a forcefield description more difficult. As it's not feasible to tabulate all possible combinations of ligand interactions with biomolecules, we must instead process the ligand using a more generalized forcefield. While this approach might not be as precise as a carefully tuned forcefield, it generally provides sufficient insight into the structure and dynamics for most cases."
   ]
  },
  {
   "cell_type": "markdown",
   "id": "9b9f26e4-f7be-43ca-ba53-3e7d989f6906",
   "metadata": {
    "tags": []
   },
   "source": [
    "## Finding the ligand\n",
    "\n",
    "PDB files primarily consist of two record types: atoms and hetatoms. In a properly configured PDB file, any ligand will be categorized as a hetatom.\n",
    "\n",
    "There are two main strategies for identifying the ligand ID:\n",
    "\n",
    "1) Manual Inspection: Open the PDB file and visually search for the ligand.\n",
    "2) Automated Extraction: Utilize the script provided below to automatically extract the ligand from the PDB file.\n"
   ]
  },
  {
   "cell_type": "code",
   "execution_count": 1,
   "id": "72153d4f-e7d7-4d0a-9863-8241dc0c2b96",
   "metadata": {
    "tags": []
   },
   "outputs": [],
   "source": [
    "from Bio.PDB import PDBParser, PDBIO, Select\n",
    "from rdkit import Chem\n",
    "from rdkit.Chem import AllChem\n",
    "from rdkit.Chem import rdmolfiles\n",
    "\n",
    "class ChainDSelect(Select):\n",
    "    def accept_chain(self, chain):\n",
    "        if chain.get_id() == 'D':\n",
    "            return 1\n",
    "        else:\n",
    "            return 0\n",
    "\n",
    "# Initialize a parser\n",
    "parser = PDBParser(QUIET=True)\n",
    "\n",
    "# Parse the structure\n",
    "structure = parser.get_structure('structure', 'assets/cookbook/1mf8.pdb')\n",
    "\n",
    "# Initialize PDBIO object\n",
    "io = PDBIO()\n",
    "\n",
    "# Set the structure to be used by the PDBIO object\n",
    "io.set_structure(structure)\n",
    "\n",
    "# Save the PDB file for chain D\n",
    "io.save('assets/cookbook/chainD_file_no_conect.pdb', ChainDSelect(), write_end=True)\n",
    "\n",
    "# Load the saved PDB file with RDKit\n",
    "mol = Chem.MolFromPDBFile('assets/cookbook/chainD_file_no_conect.pdb', sanitize=False)\n",
    "\n",
    "# Write the molecule to an SDF file\n",
    "rdmolfiles.MolToMolFile(mol, 'assets/cookbook/Ligands/chainD_file.sdf')"
   ]
  },
  {
   "cell_type": "markdown",
   "id": "6d3fa0b5-0e29-46cd-8eda-6ca48e2e2e34",
   "metadata": {
    "editable": true,
    "slideshow": {
     "slide_type": ""
    },
    "tags": []
   },
   "source": [
    "### Extracting the ligands\n",
    "\n",
    "In this block of code, we extract and isolate the ligands from a given protein structure, and save them as separate files. The process includes:\n",
    "\n",
    "Specifying the subdirectory, \"assets/cookbook/Ligands\", where the resulting ligand files will be stored.\n",
    "\n",
    "1) Implementing a function, extract_ligand_residues, which identifies ligand residues present within a protein structure. These residues correspond to small molecules we're interested in studying further.\n",
    "\n",
    "2) The ligands subfolder is purged if it already exists, and a new, empty subfolder is created.\n",
    "\n",
    "3) The PDB file is parsed and a new protein structure is created using the BioPython PDBParser.\n",
    "\n",
    "4) The code iterates over all the chains in the structure, and ligand residues are extracted using our defined function, adding these residues to the ligand_residues list.\n",
    "\n",
    "5) Each ligand residue is saved as a separate file in both PDB and SDF formats. For each residue, a unique output file path is generated based on the residue's name.\n",
    "\n",
    "6) We utilize RDKit to convert PDB formatted files to the SDF format, useful for software that requires the latter format. The PDB file content is read into a string and converted to a RDKit Mol object, which is then saved in the SDF format.\n",
    "\n"
   ]
  },
  {
   "cell_type": "code",
   "execution_count": null,
   "id": "53fa84bf-d657-4b9e-bf2e-e34d50e7e8be",
   "metadata": {
    "tags": []
   },
   "outputs": [],
   "source": [
    "import os\n",
    "import shutil\n",
    "from Bio.PDB import PDBParser, PDBIO, Select\n",
    "from rdkit import Chem\n",
    "\n",
    "# Set the input and output file names\n",
    "ligands_subfolder = \"assets/cookbook/Ligands\"\n",
    "\n",
    "# Function to extract ligand residues\n",
    "def extract_ligand_residues(chain, residue_names):\n",
    "    return [residue for residue in chain if residue.get_resname() in residue_names]\n",
    "\n",
    "# Clean up the ligands subfolder and create it again\n",
    "if os.path.exists(ligands_subfolder):\n",
    "    shutil.rmtree(ligands_subfolder)\n",
    "os.makedirs(ligands_subfolder)\n",
    "\n",
    "# Parse the PDB file and create a new structure\n",
    "parser = PDBParser()\n",
    "structure = parser.get_structure(\"protein\", input_pdb_file)\n",
    "\n",
    "# Iterate over chains and extract ligand residues using the function\n",
    "ligand_residues = []\n",
    "for chain in structure.get_chains():\n",
    "    ligand_residues.extend(extract_ligand_residues(chain, ligand_residue_names))\n",
    "\n",
    "# Save each ligand residue to a separate PDB/SDF file\n",
    "io = PDBIO()\n",
    "for residue in ligand_residues:\n",
    "    output_ligand_pdb_file = os.path.join(ligands_subfolder, f\"{residue.get_resname()}_ligand.pdb\")\n",
    "    output_ligand_sdf_file = os.path.join(ligands_subfolder, f\"{residue.get_resname()}_ligand.sdf\")\n",
    "\n",
    "    io.set_structure(residue)\n",
    "    io.save(output_ligand_pdb_file)\n",
    "    \n",
    "    # Convert the PDB file to SDF\n",
    "    with open(output_ligand_pdb_file, \"r\") as f:\n",
    "        pdb_block = f.read()\n",
    "\n",
    "    mol = Chem.MolFromPDBBlock(pdb_block)\n",
    "    Chem.MolToMolFile(mol, output_ligand_sdf_file)\n",
    "    print(\"Writing ligand file\", output_ligand_pdb_file)\n",
    "    print(\"Writing ligand file\", output_ligand_sdf_file)"
   ]
  },
  {
   "cell_type": "markdown",
   "id": "55bf79e6-42ca-4928-8b28-3c63c6e0244d",
   "metadata": {
    "tags": []
   },
   "source": [
    "## Visualising the ligand\n",
    "\n",
    "The function visualize_ligand creates a 3D representation and a 2D sketch of the chosen ligand. It adds hydrogens to the ligand if it's composed of more than one atom, but remember this process might not always produce accurate results.\n",
    "\n",
    "The on_ligand_selected function gets triggered when you pick a ligand from the dropdown menu. It updates the display to show the selected ligand.\n",
    "\n",
    "The script lists all ligand files in the 'assets/cookbook/Ligands' folder and adds them to the dropdown menu. When a ligand is selected from the menu, it's visualized. If there's only one ligand, it's displayed by default.\n",
    "\n",
    "Hydrogenation is likley to be wrong using this approach!"
   ]
  },
  {
   "cell_type": "code",
   "execution_count": 2,
   "id": "accda723-9815-4602-aac3-e1b28402d59d",
   "metadata": {
    "tags": []
   },
   "outputs": [
    {
     "data": {
      "application/vnd.jupyter.widget-view+json": {
       "model_id": "edb8b7ad5daa4d3bb509e1a8316af9cc",
       "version_major": 2,
       "version_minor": 0
      },
      "text/plain": []
     },
     "metadata": {},
     "output_type": "display_data"
    },
    {
     "data": {
      "application/vnd.jupyter.widget-view+json": {
       "model_id": "dec0e9714c814c90851b49cfa1dd6d3b",
       "version_major": 2,
       "version_minor": 0
      },
      "text/plain": [
       "Dropdown(description='Ligand:', options=('LZU_ligandwith_h.sdf', 'LZU_ligand.sdf', 'chainD_file.sdf'), value='…"
      ]
     },
     "metadata": {},
     "output_type": "display_data"
    },
    {
     "data": {
      "application/vnd.jupyter.widget-view+json": {
       "model_id": "46fe158a5fd6437da1c0b96278a01b49",
       "version_major": 2,
       "version_minor": 0
      },
      "text/plain": [
       "Output()"
      ]
     },
     "metadata": {},
     "output_type": "display_data"
    }
   ],
   "source": [
    "import os\n",
    "from rdkit import Chem\n",
    "from rdkit.Chem.Draw import IPythonConsole\n",
    "from rdkit.Chem import Draw, AllChem \n",
    "from openff.toolkit.topology import Molecule\n",
    "import nglview as nv\n",
    "import ipywidgets as widgets\n",
    "from IPython.display import display\n",
    "\n",
    "def visualize_ligand(ligand_file):\n",
    "    rdkitmol = Chem.MolFromMolFile(ligand_file)\n",
    "    # Add hydrogens only if the number of atoms is greater than 1\n",
    "    if rdkitmol.GetNumAtoms() > 1:\n",
    "        rdkitmol = Chem.AddHs(rdkitmol, addCoords=True)\n",
    "    rdkitmol.UpdatePropertyCache(strict=False)\n",
    "\n",
    "    # Assign stereochemistry\n",
    "    Chem.AssignAtomChiralTagsFromStructure(rdkitmol)\n",
    "    Chem.AssignStereochemistry(rdkitmol, force=True, cleanIt=True)\n",
    "    Chem.AssignStereochemistryFrom3D(rdkitmol, replaceExistingTags=True)\n",
    "\n",
    "    ligand = Molecule(rdkitmol, allow_undefined_stereo=True)\n",
    "\n",
    "    # Draw shallow copy of 2d molecule for inspection \n",
    "    for mol in [rdkitmol.__copy__()]:\n",
    "        AllChem.Compute2DCoords(mol)\n",
    "        img = Chem.Draw.MolToImage(mol)  \n",
    "\n",
    "    # Create NGLview visualization\n",
    "    view = nv.NGLWidget()\n",
    "    view.add_component(rdkitmol)\n",
    "    view.representations = [{\"type\": \"ball+stick\", \"params\": {\"multipleBond\": \"offset\"}}]\n",
    "\n",
    "    # Display RDKit image and NGLview side by side\n",
    "    hbox = widgets.HBox([widgets.Image(value=img._repr_png_()), view])\n",
    "    return hbox\n",
    "\n",
    "def on_ligand_selected(change):\n",
    "    selected_file = os.path.join('assets/cookbook/Ligands', change['new'])\n",
    "    with visualization_output:\n",
    "        visualization_output.clear_output()\n",
    "        display(visualize_ligand(selected_file))\n",
    "\n",
    "\n",
    "ligands_folder = 'assets/cookbook/Ligands'\n",
    "ligand_files = [f for f in os.listdir(ligands_folder) if f.endswith('.sdf')]\n",
    "\n",
    "dropdown = widgets.Dropdown(options=ligand_files,description='Ligand:',value=ligand_files[0])\n",
    "\n",
    "\n",
    "dropdown.observe(on_ligand_selected, names='value')\n",
    "visualization_output = widgets.Output()\n",
    "display(dropdown)\n",
    "display(visualization_output)\n",
    "\n",
    "# Show default ligand view if there is only one ligand\n",
    "if ligand_files[0] is not None:\n",
    "    dropdown.value = ligand_files[0]\n",
    "    on_ligand_selected({'new': ligand_files[0]})"
   ]
  },
  {
   "cell_type": "markdown",
   "id": "b06ed910-4503-4e49-b747-2abc7b03c8df",
   "metadata": {},
   "source": [
    "# OPTIONAL: Using Antechamber to assign better hyrodgenation of a Ligand\n",
    "\n",
    "You might notice a red box about complaining about the chirality of centres around the ligand. Or that the number of hydrogens added is wrong for the ligand. Lets use antechamber to fix this.\n",
    "\n",
    "Antechamber is a part of the AmberTools suite, specifically designed to prepare ligands for molecular simulations using Amber force fields. In this tutorial, we will discuss how to use Antechamber to assign a topology to a ligand by generating a mol2 file with AM1-BCC charges and GAFF atom types."
   ]
  },
  {
   "cell_type": "code",
   "execution_count": 71,
   "id": "763f2298-ec7e-4511-bcc1-0e550dfcb533",
   "metadata": {
    "tags": []
   },
   "outputs": [
    {
     "name": "stdout",
     "output_type": "stream",
     "text": [
      "['LZU_ligand.pdb', 'chainD_file.pdb']\n"
     ]
    },
    {
     "name": "stderr",
     "output_type": "stream",
     "text": [
      "1 molecule converted\n",
      "reduce: version 3.3 06/02/2016, Copyright 1997-2016, J. Michael Word\n",
      "Processing file: \"assets/cookbook/Ligands/LZU_ligand_temp_with_h.pdb\"\n",
      "Database of HETATM connections: \"/opt/conda//dat/reduce_wwPDB_het_dict.txt\"\n",
      "VDW dot density = 16/A^2\n",
      "Orientation penalty scale = 1 (100%)\n",
      "Eliminate contacts within 3 bonds.\n",
      "Ignore atoms with |occupancy| <= 0.01 during adjustments.\n",
      "Waters ignored if B-Factor >= 40 or |occupancy| < 0.66\n",
      "Aromatic rings in amino acids accept hydrogen bonds.\n",
      "Building His ring NH Hydrogens.\n",
      "Flipping Asn, Gln and His groups.\n",
      "For each flip state, bumps where gap is more than 0.4A are indicated with '!'.\n",
      "Building or keeping OH & SH Hydrogens.\n",
      "Rotating existing OH & SH Hydrogens\n",
      "Rotating NH3 Hydrogens.\n",
      "Not processing Met methyls.\n",
      "Found 26 hydrogens (26 hets)\n",
      "Standardized 0 hydrogens (0 hets)\n",
      "Added 0 hydrogens (0 hets)\n",
      "Removed 0 hydrogens (0 hets)\n",
      "If you publish work which uses reduce, please cite:\n",
      "Word, et. al. (1999) J. Mol. Biol. 285, 1735-1747.\n",
      "For more information see http://kinemage.biochem.duke.edu\n",
      "1 molecule converted\n",
      "reduce: version 3.3 06/02/2016, Copyright 1997-2016, J. Michael Word\n",
      "Processing file: \"assets/cookbook/Ligands/chainD_file_temp_with_h.pdb\"\n",
      "Database of HETATM connections: \"/opt/conda//dat/reduce_wwPDB_het_dict.txt\"\n",
      "VDW dot density = 16/A^2\n",
      "Orientation penalty scale = 1 (100%)\n",
      "Eliminate contacts within 3 bonds.\n",
      "Ignore atoms with |occupancy| <= 0.01 during adjustments.\n",
      "Waters ignored if B-Factor >= 40 or |occupancy| < 0.66\n",
      "Aromatic rings in amino acids accept hydrogen bonds.\n",
      "Building His ring NH Hydrogens.\n",
      "Flipping Asn, Gln and His groups.\n",
      "For each flip state, bumps where gap is more than 0.4A are indicated with '!'.\n",
      "Building or keeping OH & SH Hydrogens.\n",
      "Rotating existing OH & SH Hydrogens\n",
      "Rotating NH3 Hydrogens.\n",
      "Not processing Met methyls.\n",
      "Found 111 hydrogens (111 hets)\n",
      "Standardized 0 hydrogens (0 hets)\n",
      "Added 0 hydrogens (0 hets)\n",
      "Removed 0 hydrogens (0 hets)\n",
      "If you publish work which uses reduce, please cite:\n",
      "Word, et. al. (1999) J. Mol. Biol. 285, 1735-1747.\n",
      "For more information see http://kinemage.biochem.duke.edu\n"
     ]
    }
   ],
   "source": [
    "import subprocess\n",
    "import os\n",
    "from openbabel import pybel\n",
    "\n",
    "def convert_sdf_to_pdb(input_sdf_path, output_pdb_path):\n",
    "    mol = next(pybel.readfile(\"sdf\", input_sdf_path))\n",
    "    mol.write(\"pdb\", output_pdb_path, overwrite=True)\n",
    "\n",
    "ligands_folder = 'assets/cookbook/Ligands'\n",
    "\n",
    "# Convert SDFs to PDBs\n",
    "sdf_files = [f for f in os.listdir(ligands_folder) if f.endswith('.sdf')]\n",
    "for sdf_file in sdf_files:\n",
    "    input_sdf_path = os.path.join(ligands_folder, sdf_file)\n",
    "    output_pdb_path = os.path.join(ligands_folder, os.path.splitext(sdf_file)[0] + '.pdb')\n",
    "    convert_sdf_to_pdb(input_sdf_path, output_pdb_path)\n",
    "\n",
    "ligand_files = [f for f in os.listdir(ligands_folder) if f.endswith('.pdb') and not f.endswith('_h.pdb')]\n",
    "print(ligand_files)\n",
    "\n",
    "for file in ligand_files:\n",
    "    # Get the input file's base name without the extension\n",
    "    file_base_name, _ = os.path.splitext(file)\n",
    "\n",
    "    # Add hydrogens to the input PDB file using Open Babel\n",
    "    temp_pdb_with_h = os.path.join(ligands_folder, f\"{file_base_name}_temp_with_h.pdb\")\n",
    "    subprocess.run([\"obabel\", os.path.join(ligands_folder, file), \"-h\", \"-O\", temp_pdb_with_h], check=True)\n",
    "\n",
    "    # Process the PDB file with hydrogens using the 'reduce' program\n",
    "    output_pdb_with_h = os.path.join(ligands_folder, f\"{file_base_name}_with_h.pdb\")\n",
    "    with open(output_pdb_with_h, \"w\") as outfile:\n",
    "        subprocess.run([\"reduce\", \"-BUILD\", temp_pdb_with_h], check=True, text=True, stdout=outfile)\n",
    "\n",
    "    # Remove the temporary file\n",
    "    os.remove(temp_pdb_with_h)"
   ]
  },
  {
   "cell_type": "code",
   "execution_count": null,
   "id": "082d700b-ef8e-4f4c-8321-866b1886d648",
   "metadata": {
    "jupyter": {
     "source_hidden": true
    },
    "tags": []
   },
   "outputs": [],
   "source": [
    "# import os\n",
    "# from simtk.openmm import Vec3\n",
    "# from simtk.openmm.app import Modeller, ForceField, PDBFile\n",
    "# from openmmforcefields.generators import GAFFTemplateGenerator\n",
    "# from openff.toolkit.topology import Molecule, Topology\n",
    "# from simtk import unit\n",
    "\n",
    "# ligands_folder = 'assets/cookbook/Ligands'\n",
    "# ligand_files = [f for f in os.listdir(ligands_folder) if f.endswith('.sdf')]\n",
    "\n",
    "# for file in ligand_files:\n",
    "#     file_base_name, _ = os.path.splitext(file)\n",
    "#     input_file_path = os.path.join(ligands_folder, file)\n",
    "\n",
    "#     # Create OpenFF Molecule from SDF\n",
    "#     openff_mol = Molecule.from_file(input_file_path, allow_undefined_stereo=True)\n",
    "\n",
    "#     # Convert OpenFF Molecule to OpenFF Topology\n",
    "#     openff_topology = Topology.from_molecules([openff_mol])\n",
    "\n",
    "#     # Convert OpenFF Topology to OpenMM Topology\n",
    "#     openmm_topology = openff_topology.to_openmm()\n",
    "\n",
    "#     # Get the OpenFF Molecule conformer positions and convert to OpenMM Vec3 with proper units\n",
    "#     openmm_positions = [Vec3(*pos) for pos in openff_mol.conformers[0].value_in_unit(unit.nanometer)]\n",
    "\n",
    "#     # Multiply by unit.nanometer to convert to OpenMM Quantity\n",
    "#     openmm_positions = [pos * unit.nanometer for pos in openmm_positions]\n",
    "\n",
    "#     modeller = Modeller(openmm_topology, openmm_positions)\n",
    "\n",
    "#     # Create a GAFFTemplateGenerator instance\n",
    "#     gaff_generator = GAFFTemplateGenerator(molecules=[openff_mol])\n",
    "\n",
    "#     forcefield = ForceField()\n",
    "#     forcefield.registerTemplateGenerator(gaff_generator.generator)\n",
    "\n",
    "#     modeller.addHydrogens(forcefield)\n",
    "\n",
    "#     output_pdb_with_h = os.path.join(ligands_folder, f\"{file_base_name}_with_h.pdb\")\n",
    "#     with open(output_pdb_with_h, 'w') as outfile:\n",
    "#         PDBFile.writeFile(modeller.topology, modeller.positions, outfile)\n"
   ]
  },
  {
   "cell_type": "markdown",
   "id": "9b3a9a8b-fc3d-454c-8617-66afb84e01fb",
   "metadata": {
    "tags": []
   },
   "source": [
    "## Reprocess the ligand with openbabel into an sdf file\n",
    "\n",
    "OpenBabel provides a solution for reprocessing the connectivity data generated by RDKit, particularly beneficial when addressing topology discrepancies related to incorrect chiral assignments. In this context, OpenBabel is utilized for converting the data into the Structure-Data File (SDF) format."
   ]
  },
  {
   "cell_type": "code",
   "execution_count": 72,
   "id": "203dac3a-1727-48f2-bdb2-dd9a97a6765f",
   "metadata": {
    "tags": []
   },
   "outputs": [
    {
     "name": "stdout",
     "output_type": "stream",
     "text": [
      "LZU_ligand_with_h.pdb\n",
      "LZU_ligandwith_h.pdb\n",
      "chainD_file_with_h.pdb\n"
     ]
    }
   ],
   "source": [
    "from openbabel import pybel\n",
    "from rdkit import Chem\n",
    "import nglview\n",
    "\n",
    "\n",
    "ligands_folder = 'assets/cookbook/Ligands'\n",
    "ligand_files = [f for f in os.listdir(ligands_folder) if f.endswith('_h.pdb')]\n",
    "\n",
    "for input_file in ligand_files :\n",
    "    print(input_file)\n",
    "    file_base_name, _ = os.path.splitext(file)\n",
    "    mol = next(pybel.readfile(\"pdb\", ligands_folder+\"/\"+input_file))\n",
    "    #mol.addh()\n",
    "    mol.write(\"sdf\", ligands_folder+\"/\"+file_base_name+\"with_h.sdf\", overwrite=True)\n",
    "    \n"
   ]
  },
  {
   "cell_type": "markdown",
   "id": "12d984d4-bf2d-4c44-9efc-b8233082c6c4",
   "metadata": {
    "tags": []
   },
   "source": [
    "### Veiwing the reprotonated ligand\n",
    "\n",
    "Antechamber has produced a rehydrogenated ligand that we can examine below"
   ]
  },
  {
   "cell_type": "code",
   "execution_count": 73,
   "id": "25f00d27-cf3d-447b-8772-1e7a828f010b",
   "metadata": {
    "tags": []
   },
   "outputs": [
    {
     "name": "stdout",
     "output_type": "stream",
     "text": [
      "['LZU_ligandwith_h.sdf', 'chainD_filewith_h.sdf']\n"
     ]
    },
    {
     "data": {
      "application/vnd.jupyter.widget-view+json": {
       "model_id": "d44f280e4a2c4897a3b248bce0efd7cf",
       "version_major": 2,
       "version_minor": 0
      },
      "text/plain": [
       "Dropdown(description='Ligand:', options=('LZU_ligandwith_h.sdf', 'chainD_filewith_h.sdf'), value='LZU_ligandwi…"
      ]
     },
     "metadata": {},
     "output_type": "display_data"
    },
    {
     "data": {
      "application/vnd.jupyter.widget-view+json": {
       "model_id": "5e0ee4a3ceac486c97206c481e8901be",
       "version_major": 2,
       "version_minor": 0
      },
      "text/plain": [
       "Output()"
      ]
     },
     "metadata": {},
     "output_type": "display_data"
    }
   ],
   "source": [
    "import os\n",
    "from rdkit import Chem\n",
    "from rdkit.Chem.Draw import IPythonConsole\n",
    "from rdkit.Chem import Draw, AllChem \n",
    "from openff.toolkit.topology import Molecule\n",
    "import nglview as nv\n",
    "import ipywidgets as widgets\n",
    "from IPython.display import display\n",
    "\n",
    "def visualize_ligand(ligand_file):\n",
    "    # Need to use suplier when there are hydrogens\n",
    "    mol_supplier = Chem.SDMolSupplier(ligand_file, removeHs=False)\n",
    "    rdkitmol = mol_supplier[0]\n",
    "    with open(ligand_file, \"r\") as f:\n",
    "         sdf_data = f.read()\n",
    "    \n",
    "    # Draw shallow copy of 2d molecule for inspection \n",
    "    for mol in [rdkitmol.__copy__()]:\n",
    "        AllChem.Compute2DCoords(mol)\n",
    "        img = Chem.Draw.MolToImage(mol)  \n",
    "\n",
    "    # Create NGLview visualization\n",
    "    view = nv.NGLWidget()\n",
    "    view.add_component(rdkitmol)\n",
    "    view.representations = [{\"type\": \"ball+stick\", \"params\": {\"multipleBond\": \"offset\"}, \"showH\": \"true\"}]\n",
    "\n",
    "    # Display RDKit image and NGLview side by side\n",
    "    hbox = widgets.HBox([widgets.Image(value=img._repr_png_()), view])\n",
    "    return hbox\n",
    "\n",
    "def on_ligand_selected(change):\n",
    "    selected_file = os.path.join('assets/cookbook/Ligands', change['new'])\n",
    "    with visualization_output:\n",
    "        visualization_output.clear_output()\n",
    "        display(visualize_ligand(selected_file))\n",
    "\n",
    "\n",
    "ligands_folder = 'assets/cookbook/Ligands'\n",
    "ligand_files = [f for f in os.listdir(ligands_folder) if f.endswith('with_h.sdf')]\n",
    "print(ligand_files)\n",
    "dropdown = widgets.Dropdown(options=ligand_files,description='Ligand:',value=ligand_files[0])\n",
    "\n",
    "\n",
    "dropdown.observe(on_ligand_selected, names='value')\n",
    "visualization_output = widgets.Output()\n",
    "display(dropdown)\n",
    "display(visualization_output)\n",
    "\n",
    "# Show default ligand view if there is only one ligand\n",
    "if ligand_files[0] is not None:\n",
    "    dropdown.value = ligand_files[0]\n",
    "    on_ligand_selected({'new': ligand_files[0]})"
   ]
  },
  {
   "cell_type": "markdown",
   "id": "dec9295e-ce60-4963-ba1a-f35ecc96d428",
   "metadata": {},
   "source": [
    "# Creating OpenMM Compatible Files Using RDKit\n",
    "## Introduction\n",
    "In this segment, we aim to create a protein-ligand assembly that's ready for an OpenMM simulation. To do this, we'll take a ligand in the .sdf format, prepare it, and convert it into a format compatible with OpenMM. An important consideration is ensuring the ligand's optimal placement relative to the protein to avoid any unnecessary distance or overlap. This process can be expedited by using Nanome to design the ligand and establish a suitable starting position for molecular dynamics (MD). However we will be using the default palcement of the bound complex to begin with.\n",
    "\n",
    "## Loading the Ligand\n",
    "he first step is to load the ligand from the .sdf file. Subsequently, we'll use RDKit to attach hydrogen atoms to the ligand, as this improves the accuracy of our simulation\n",
    "\n",
    "## Converting to OpenMM-Compatible Format\n",
    "After attaching the hydrogen atoms, we'll use the OpenMM.Molecule function to transition the ligand into a format OpenMM can work with. This will enable us to use OpenMM to construct our protein-ligand complex in a standardized format.\n",
    "\n",
    "Next, we'll visually inspect the prepared ligand with RDKit's 2D viewer and ngview to ensure accurate bond orders."
   ]
  },
  {
   "cell_type": "markdown",
   "id": "681f298e-5c53-4b4a-a66b-406be4412a0f",
   "metadata": {
    "tags": []
   },
   "source": [
    " ## Converting an RDkit molecule to an OpenMM molecule\n",
    " \n",
    "To reintegrate the ligand into our system, we'll employ a pre-segmented ligand file and transform it from the SDF format to the OpenFF format, and ultimately into the OpenMM format. The function provided below accomplishes this task. Although a deep understanding of the underlying process isn't necessary for this example, here's a brief overview:\n",
    "\n",
    "The function identifies the elements in the SDF file and processes this information to construct a topology (or connectivity) for the molecule. Using this topology, we can then apply the General AMBER Force Field (GAFF) to create all the necessary parameters for the bond, angle, and dihedrals of the ligand.\n"
   ]
  },
  {
   "cell_type": "code",
   "execution_count": 74,
   "id": "6d32c7e7-0469-437e-944d-b2a841435b22",
   "metadata": {
    "tags": []
   },
   "outputs": [],
   "source": [
    "import openmm.app as app\n",
    "from openff.toolkit.topology import Molecule\n",
    "\n",
    "def rdkit_to_openmm(rdkit_mol, name=\"LIG\"):\n",
    "    \"\"\"\n",
    "    Convert an RDKit molecule to an OpenMM molecule.\n",
    "\n",
    "    Parameters\n",
    "    ----------\n",
    "    rdkit_mol: rdkit.Chem.rdchem.Mol\n",
    "        RDKit molecule to convert.\n",
    "    name: str\n",
    "        Molecule name.\n",
    "\n",
    "    Returns\n",
    "    -------\n",
    "    omm_molecule: simtk.openmm.app.Modeller\n",
    "        OpenMM modeller object holding the molecule of interest.\n",
    "    \"\"\"\n",
    "    # convert RDKit to OpenFF\n",
    "    off_mol = Molecule.from_rdkit(rdkit_mol, allow_undefined_stereo=True)\n",
    "\n",
    "    # add name for molecule\n",
    "    off_mol.name = name\n",
    "\n",
    "    # add names for atoms\n",
    "    element_counter_dict = {}\n",
    "    for off_atom, rdkit_atom in zip(off_mol.atoms, rdkit_mol.GetAtoms()):\n",
    "        element = rdkit_atom.GetSymbol()\n",
    "        if element in element_counter_dict.keys():\n",
    "            element_counter_dict[element] += 1\n",
    "        else:\n",
    "            element_counter_dict[element] = 1\n",
    "        off_atom.name = element + str(element_counter_dict[element])\n",
    "\n",
    "    # convert from OpenFF to OpenMM\n",
    "    off_mol_topology = off_mol.to_topology()\n",
    "    mol_topology = off_mol_topology.to_openmm()\n",
    "    mol_positions = off_mol.conformers[0]\n",
    "\n",
    "    # convert units from Ångström to nanometers\n",
    "    # since OpenMM works in nm\n",
    "    mol_positions = mol_positions.to(\"nanometers\")\n",
    "\n",
    "    # combine topology and positions in modeller object\n",
    "    omm_mol = app.Modeller(mol_topology, mol_positions)\n",
    "\n",
    "    return omm_mol, off_mol"
   ]
  },
  {
   "cell_type": "markdown",
   "id": "11a5968d-f243-4c71-97b3-eba6bb410963",
   "metadata": {},
   "source": [
    "### Create openMM objects from the hydrated ligand sdf file"
   ]
  },
  {
   "cell_type": "code",
   "execution_count": 75,
   "id": "4d2b9e52-b1b5-40a1-8646-5ed6f1e72c70",
   "metadata": {
    "tags": []
   },
   "outputs": [],
   "source": [
    "from rdkit import Chem\n",
    "import os\n",
    "\n",
    "#rdkit_ligand = Chem.MolFromMolFile('assets/cookbook/Ligands/LZU_ligand.sdf')\n",
    "\n",
    "# Load the hydrated ligand files\n",
    "ligands_folder = 'assets/cookbook/Ligands'\n",
    "ligand_files = [f for f in os.listdir(ligands_folder) if f.endswith('_h.sdf')]\n",
    "\n",
    "# loop through each ligand file found\n",
    "for file in ligand_files:\n",
    "    rdkit_ligand = Chem.MolFromMolFile(ligands_folder+\"/\"+file)\n",
    "    ligand_name= \"LIG\"\n",
    "    omm_ligand, off_ligand = rdkit_to_openmm(rdkit_ligand, ligand_name)"
   ]
  },
  {
   "cell_type": "code",
   "execution_count": 45,
   "id": "22eccfe8-00ec-4f8e-82ff-71cedcc8426b",
   "metadata": {
    "tags": []
   },
   "outputs": [
    {
     "name": "stdout",
     "output_type": "stream",
     "text": [
      "LZU_ligand_with_h.pdb\n"
     ]
    }
   ],
   "source": [
    "# from rdkit import Chem\n",
    "# import subprocess\n",
    "\n",
    "# ligands_folder = 'assets/cookbook/Ligands'\n",
    "# ligand_files = [f for f in os.listdir(ligands_folder) if f.endswith('_h.pdb')]\n",
    "\n",
    "# for file in ligand_files: \n",
    "#     # Get the input file's base name without the extension\n",
    "#     file_base_name, _ = os.path.splitext(file)\n",
    "\n",
    "#     # Add hydrogens to the input PDB file using the 'reduce' program\n",
    "#     output_sdf_with_h = os.path.join(ligands_folder, f\"{file_base_name}.sdf\")\n",
    "    \n",
    "#     mol = next(pybel.readfile(\"pdb\", 'assets/cookbook/Ligands'+\"/\"+file))\n",
    "#     #mol.addh()\n",
    "#     mol.write(\"sdf\", output_sdf_with_h, overwrite=True)\n",
    "\n",
    "#     rdkit_ligand = Chem.MolFromMolFile(output_sdf_with_h)\n",
    "#     print(file)\n",
    "#     ligand_name= \"LIG\"\n",
    "#     omm_ligand = rdkit_to_openmm(rdkit_ligand, ligand_name)"
   ]
  },
  {
   "cell_type": "markdown",
   "id": "6ce5709f-6106-42e3-b5bc-8a5f008a7dcf",
   "metadata": {
    "tags": []
   },
   "source": [
    "# Prepear the protein"
   ]
  },
  {
   "cell_type": "code",
   "execution_count": 76,
   "id": "e24b41b5-b769-452c-8c66-51b03234a5bb",
   "metadata": {
    "tags": []
   },
   "outputs": [],
   "source": [
    "from openmm.app import * \n",
    "from openmm import *\n",
    "from openmm.unit import *\n",
    "from openmm.openmm import *\n",
    "from pdbfixer import PDBFixer\n",
    "import subprocess\n",
    "\n",
    "# PDB file that we will use as a starting structure\n",
    "pdb_start = \"assets/cookbook/1mf8.pdb\"\n",
    "\n",
    "# PDB file that we will use as the cleaned output structure\n",
    "pdb_out = 'assets/cookbook/cleaned_output.pdb'\n",
    "\n",
    "#output_capture = io.StringIO()\n",
    "\n",
    "# Use amber4pdb to clean up records for use with amber forcefield\n",
    "pdb4amber_result = subprocess.run([\"pdb4amber\", \"--nohyd\", \"--dry\", pdb_start],\n",
    "        stdout=subprocess.PIPE,\n",
    "        stderr=subprocess.PIPE,\n",
    "        text=True\n",
    "    )\n",
    "\n",
    "with open(pdb_out, 'wb') as f:\n",
    "    f.write(pdb4amber_result.stdout.encode(\"utf-8\")) \n",
    "\n",
    "# Use reduce to add hydrogens according to ambers preferences    \n",
    "#try:\n",
    "#    out = subprocess.check_output([\"reduce\", \"-build\", \"-nuclear\", \"assets/cookbook/cleaned_output.pdb\"], stderr=subprocess.PIPE)\n",
    "#except subprocess.CalledProcessError as e:\n",
    "#    print(\"Error message from reduce:\", e.stderr.decode())\n",
    "\n",
    "# Use OpenMMs pdbfixer to fix some final issues that can crop up\n",
    "fixed_pdb = PDBFixer(filename=pdb_out)\n",
    "fixed_pdb.findMissingResidues()\n",
    "fixed_pdb.findNonstandardResidues()\n",
    "#fixer.replaceNonstandardResidues(\n",
    "fixed_pdb.removeHeterogens(True) # comment to run with ligand\n",
    "fixed_pdb.findMissingAtoms()\n",
    "fixed_pdb.addMissingAtoms()\n",
    "fixed_pdb.addMissingHydrogens(7.0)\n",
    "PDBFile.writeFile(fixed_pdb.topology, fixed_pdb.positions, open(pdb_out, 'w'))\n",
    "\n"
   ]
  },
  {
   "cell_type": "code",
   "execution_count": null,
   "id": "4aec0028-542c-47aa-8367-82b427cc1e40",
   "metadata": {
    "tags": []
   },
   "outputs": [],
   "source": [
    "from simtk.openmm.app import PDBFile\n",
    "\n",
    "# PDB file that we will use as a starting structure\n",
    "protein_pdb = PDBFile(\"assets/cookbook/1mf8.pdb\")\n",
    "\n",
    "for chain in protein_pdb.topology.chains():\n",
    "    for residue in chain.residues():\n",
    "        print(residue.id, residue.name)\n",
    "        \n",
    "new_topology = Topology()\n",
    "# Copy atoms and residues from old topology to new one\n",
    "old_to_new_atoms = {}\n",
    "for chain in protein_pdb.topology.chains():\n",
    "    new_chain = new_topology.addChain()\n",
    "    for residue in chain.residues():\n",
    "        new_residue = new_topology.addResidue(residue.name, new_chain)\n",
    "        for atom in residue.atoms():\n",
    "            new_atom = new_topology.addAtom(atom.name, atom.element, new_residue)\n",
    "            old_to_new_atoms[atom] = new_atom\n",
    "# Copy bonds from old topology to new one, and add the missing bond\n",
    "for bond in protein_pdb.topology.bonds():\n",
    "    new_topology.addBond(old_to_new_atoms[bond[0]], old_to_new_atoms[bond[1]])\n",
    "# Add the missing bond that closes the peptide ring\n",
    "cyclic_peptide_atoms = [atom for atom in old_to_new_atoms.keys() if atom.residue.id in cyclic_peptide_residue_ids]\n",
    "new_topology.addBond(old_to_new_atoms[first_atom], old_to_new_atoms[last_atom])"
   ]
  },
  {
   "cell_type": "markdown",
   "id": "c39848b3-b066-4d42-8ce1-0f41b5be2447",
   "metadata": {
    "tags": []
   },
   "source": [
    "## View the uncomplexed protien"
   ]
  },
  {
   "cell_type": "code",
   "execution_count": 78,
   "id": "10d471fc-659a-4437-aaf7-a38faaf04b68",
   "metadata": {
    "tags": []
   },
   "outputs": [
    {
     "data": {
      "application/vnd.jupyter.widget-view+json": {
       "model_id": "956f4c5e5f284eef8a5cf1925716961d",
       "version_major": 2,
       "version_minor": 0
      },
      "text/plain": [
       "NGLWidget()"
      ]
     },
     "metadata": {},
     "output_type": "display_data"
    }
   ],
   "source": [
    "import nglview as nv\n",
    "view = nv.show_structure_file(\"assets/cookbook/cleaned_output.pdb\")\n",
    "#view.add_ball_and_stick(\"protien\") \n",
    "view"
   ]
  },
  {
   "cell_type": "markdown",
   "id": "34c6abca-5e16-414a-974c-51cd6ab907a1",
   "metadata": {},
   "source": [
    "## Merge the protien and the ligand topologies"
   ]
  },
  {
   "cell_type": "code",
   "execution_count": 79,
   "id": "f64d6de1-fcd9-4460-8860-43d3c509ec87",
   "metadata": {
    "tags": []
   },
   "outputs": [],
   "source": [
    "import mdtraj as md\n",
    "import numpy as np\n",
    "def merge_protein_and_ligand(protein, ligand):\n",
    "    \"\"\"\n",
    "    Merge two OpenMM objects.\n",
    "\n",
    "    Parameters\n",
    "    ----------\n",
    "    protein: pdbfixer.pdbfixer.PDBFixer\n",
    "        Protein to merge.\n",
    "    ligand: simtk.openmm.app.Modeller\n",
    "        Ligand to merge.\n",
    "\n",
    "    Returns\n",
    "    -------\n",
    "    complex_topology: simtk.openmm.app.topology.Topology\n",
    "        The merged topology.\n",
    "    complex_positions: simtk.unit.quantity.Quantity\n",
    "        The merged positions.\n",
    "    \"\"\"\n",
    "    # combine topologies\n",
    "    md_protein_topology = md.Topology.from_openmm(protein.topology)  # using mdtraj for protein top\n",
    "    md_ligand_topology = md.Topology.from_openmm(ligand.topology)  # using mdtraj for ligand top\n",
    "    md_complex_topology = md_protein_topology.join(md_ligand_topology)  # add them together\n",
    "    complex_topology = md_complex_topology.to_openmm()\n",
    "\n",
    "    # combine positions\n",
    "    total_atoms = len(protein.positions) + len(ligand.positions)\n",
    "\n",
    "    # create an array for storing all atom positions as tupels containing a value and a unit\n",
    "    # called OpenMM Quantities\n",
    "    complex_positions = unit.Quantity(np.zeros([total_atoms, 3]), unit=unit.nanometers)\n",
    "    complex_positions[: len(protein.positions)] = protein.positions  # add protein positions\n",
    "    complex_positions[len(protein.positions) :] = ligand.positions  # add ligand positions\n",
    "\n",
    "    return complex_topology, complex_positions"
   ]
  },
  {
   "cell_type": "code",
   "execution_count": 80,
   "id": "87e76909-d132-4d2b-a8b5-be38c98ca6b1",
   "metadata": {
    "tags": []
   },
   "outputs": [
    {
     "name": "stdout",
     "output_type": "stream",
     "text": [
      "Complex topology has 10977 atoms.\n"
     ]
    },
    {
     "name": "stderr",
     "output_type": "stream",
     "text": [
      "/opt/conda/lib/python3.9/site-packages/openmm/unit/quantity.py:750: UnitStrippedWarning: The unit of the quantity is stripped when downcasting to ndarray.\n",
      "  self._value[key] = value / self.unit\n"
     ]
    },
    {
     "data": {
      "text/plain": [
       "<Topology; 5 chains, 683 residues, 10977 atoms, 11102 bonds>"
      ]
     },
     "execution_count": 80,
     "metadata": {},
     "output_type": "execute_result"
    }
   ],
   "source": [
    "complex_topology, complex_positions = merge_protein_and_ligand(fixed_pdb, omm_ligand)\n",
    "print(\"Complex topology has\", complex_topology.getNumAtoms(), \"atoms.\")\n",
    "complex_topology"
   ]
  },
  {
   "cell_type": "markdown",
   "id": "e97d1c47-1651-479c-805c-fb5d60c7231c",
   "metadata": {},
   "source": [
    "# Viewing the prepearped protien ligand complex PDB\n",
    "\n",
    "We can view the new protien ligand complex held in the \"complex_topology/Complex_positions\" by exporting to the temp.pdb"
   ]
  },
  {
   "cell_type": "code",
   "execution_count": 81,
   "id": "9bb97f8d-2db9-48b5-b681-94bb89129d48",
   "metadata": {
    "tags": []
   },
   "outputs": [
    {
     "data": {
      "application/vnd.jupyter.widget-view+json": {
       "model_id": "41e7fd92837f414a96e3561117e8488a",
       "version_major": 2,
       "version_minor": 0
      },
      "text/plain": [
       "NGLWidget()"
      ]
     },
     "metadata": {},
     "output_type": "display_data"
    }
   ],
   "source": [
    "PDBFile.writeFile(complex_topology, complex_positions, open('assets/cookbook/temp.pdb', 'w'))\n",
    "view = nv.show_structure_file(\"assets/cookbook/temp.pdb\")\n",
    "view"
   ]
  },
  {
   "cell_type": "markdown",
   "id": "f1d43e78-1a3a-4ec2-a9a7-cc31d65e7596",
   "metadata": {
    "tags": []
   },
   "source": [
    "# Create the parameters for the ligand \n",
    "\n",
    "We have generated both the ligand positions and a topology combined with the protein (complex_positions and complex_topology). Our final setep is to register the ligand as part of the Forcefield using the Gaff Generator, which effectively parses and adds the physical description of the ligand to the standard protien Forcefield."
   ]
  },
  {
   "cell_type": "code",
   "execution_count": 82,
   "id": "557f7408-6e72-4c0a-b985-66e573d1ab43",
   "metadata": {
    "tags": []
   },
   "outputs": [],
   "source": [
    "from sys import stdout\n",
    "from openmm.app import ForceField\n",
    "from openff.toolkit.topology import Molecule, Topology\n",
    "from openmmforcefields.generators import GAFFTemplateGenerator\n",
    "from mdtraj.reporters import XTCReporter\n",
    "\n",
    "\n",
    "# The forcefieild for the protein and solvent (if used)\n",
    "protein_ff=\"amber14-all.xml\" \n",
    "solvent_ff=\"amber14/tip3pfb.xml\"\n",
    "forcefield = app.ForceField(protein_ff, solvent_ff)\n",
    "\n",
    "# Generate and add the forcefeild terms to the \"forcefeild\" function holdiding the protein and solver terms\n",
    "#gaff = GAFFTemplateGenerator(molecules=Molecule.from_rdkit(rdkit_ligand, allow_undefined_stereo=True))\n",
    "gaff = GAFFTemplateGenerator(molecules=off_ligand)\n",
    "\n",
    "\n",
    "forcefield.registerTemplateGenerator(gaff.generator)\n",
    "\n",
    "# The modeller collects together the molecular data (positions and toplology) ready for combining with the forcefeild\n",
    "modeller = app.Modeller(complex_topology, complex_positions)"
   ]
  },
  {
   "cell_type": "markdown",
   "id": "38bb780e-a7ff-4f2c-ad1e-4ddb0065a2b1",
   "metadata": {
    "tags": []
   },
   "source": [
    "# Running the simulation\n",
    "\n",
    "We have now created a unified set of coordinates and a unified topology connecting all those coordinates and a forcefield with all the necessary terms for describing the physics between the atoms and molecules. We will now set the physical conditions for the simulation, such as the temperature and timestep for the simulation to run.\n",
    "\n",
    "The simulation below will take a little while to set up and then the number of steps will progress quite rapidly, depending on the number of atoms in the system and how often we checkpoint the simulation.\n",
    "\n",
    "We have selected the following parameters below for the simulation.\n",
    "\n",
    "* Integrator : Langevin\n",
    "* Nonbonded cutoff distance : 1 Nanometer\n",
    "* friction coefficient : 0.1 picosecond\n",
    "* Temperature : 300 kelvin\n",
    "* Timestep : 0.004 picoseconds\n",
    "* Number of timesteps : 2000 steps\n",
    "* Total simulation time : 8 picoseconds\n",
    "* Number of stpes between checkpoints : 100 steps\n",
    "* Real world time between steps : 0.4 picoseconds"
   ]
  },
  {
   "cell_type": "code",
   "execution_count": null,
   "id": "5ce8b491-ad10-4ed1-8ee3-c4a4b4e607ae",
   "metadata": {},
   "outputs": [],
   "source": [
    "from openff.toolkit.topology import Molecule\n",
    "\n",
    "# Compute AM1-BCC charges\n",
    "off_ligand.generate_conformers(n_conformers=1)\n",
    "off_ligand.compute_partial_charges_am1bcc()\n",
    "\n",
    "# Convert Open Force Field Molecule to RDKit Mol and then back again to update charges in the molecule\n",
    "rdkit_mol = off_ligand.to_rdkit()\n",
    "off_ligand = Molecule.from_rdkit(rdkit_mol, allow_undefined_stereo=True)\n",
    "\n",
    "# Save the molecule with computed charges to an SDF file\n",
    "off_ligand.to_file(\"ligand_with_charges.sdf\", \"SDF\")\n",
    "\n",
    "# Generate and add the forcefeild terms to the \"forcefield\" function holdiding the protein and solver terms\n",
    "gaff = GAFFTemplateGenerator(molecules=off_ligand)\n",
    "forcefield.registerTemplateGenerator(gaff.generator)"
   ]
  },
  {
   "cell_type": "code",
   "execution_count": 83,
   "id": "0e9bce32-2cbf-4674-a70f-55c12160c06e",
   "metadata": {
    "tags": []
   },
   "outputs": [
    {
     "name": "stderr",
     "output_type": "stream",
     "text": [
      "/opt/conda/lib/python3.9/site-packages/openmmforcefields/generators/template_generators.py:607: UserWarning: Warning! Partial charge method 'am1bcc' is not designed for use on large (i.e. > 150 atoms) molecules and may crash or take hours to run on this molecule (found 196 atoms). For more, see https://docs.openforcefield.org/projects/toolkit/en/stable/faq.html#parameterizing-my-system-which-contains-a-large-molecule-is-taking-forever-whats-wrong\n",
      "  molecule.assign_partial_charges(partial_charge_method='am1bcc')\n"
     ]
    },
    {
     "ename": "OpenMMException",
     "evalue": "Particle coordinate is NaN.  For more information, see https://github.com/openmm/openmm/wiki/Frequently-Asked-Questions#nan",
     "output_type": "error",
     "traceback": [
      "\u001b[0;31m---------------------------------------------------------------------------\u001b[0m",
      "\u001b[0;31mOpenMMException\u001b[0m                           Traceback (most recent call last)",
      "\u001b[0;32m/tmp/ipykernel_6617/741551070.py\u001b[0m in \u001b[0;36m?\u001b[0;34m()\u001b[0m\n\u001b[0;32m---> 16\u001b[0;31m \u001b[0;31m# Uncomment the blow line to use GPU accelleration\u001b[0m\u001b[0;34m\u001b[0m\u001b[0;34m\u001b[0m\u001b[0m\n\u001b[0m\u001b[1;32m     17\u001b[0m \u001b[0;31m#platform = Platform.getPlatformByName('CUDA')\u001b[0m\u001b[0;34m\u001b[0m\u001b[0;34m\u001b[0m\u001b[0m\n\u001b[1;32m     18\u001b[0m \u001b[0;34m\u001b[0m\u001b[0m\n\u001b[1;32m     19\u001b[0m \u001b[0;31m# setting of the chemical system\u001b[0m\u001b[0;34m\u001b[0m\u001b[0;34m\u001b[0m\u001b[0m\n",
      "\u001b[0;32m/opt/conda/lib/python3.9/site-packages/openmm/app/simulation.py\u001b[0m in \u001b[0;36m?\u001b[0;34m(self, tolerance, maxIterations)\u001b[0m\n\u001b[1;32m    133\u001b[0m             \u001b[0mThe\u001b[0m \u001b[0mmaximum\u001b[0m \u001b[0mnumber\u001b[0m \u001b[0mof\u001b[0m \u001b[0miterations\u001b[0m \u001b[0mto\u001b[0m \u001b[0mperform\u001b[0m\u001b[0;34m.\u001b[0m  \u001b[0mIf\u001b[0m \u001b[0mthis\u001b[0m \u001b[0;32mis\u001b[0m \u001b[0;36m0\u001b[0m\u001b[0;34m,\u001b[0m\u001b[0;34m\u001b[0m\u001b[0;34m\u001b[0m\u001b[0m\n\u001b[1;32m    134\u001b[0m             \u001b[0mminimization\u001b[0m \u001b[0;32mis\u001b[0m \u001b[0mcontinued\u001b[0m \u001b[0muntil\u001b[0m \u001b[0mthe\u001b[0m \u001b[0mresults\u001b[0m \u001b[0mconverge\u001b[0m \u001b[0mwithout\u001b[0m \u001b[0mregard\u001b[0m\u001b[0;34m\u001b[0m\u001b[0;34m\u001b[0m\u001b[0m\n\u001b[1;32m    135\u001b[0m             \u001b[0mto\u001b[0m \u001b[0mhow\u001b[0m \u001b[0mmany\u001b[0m \u001b[0miterations\u001b[0m \u001b[0mit\u001b[0m \u001b[0mtakes\u001b[0m\u001b[0;34m.\u001b[0m\u001b[0;34m\u001b[0m\u001b[0;34m\u001b[0m\u001b[0m\n\u001b[1;32m    136\u001b[0m         \"\"\"\n\u001b[0;32m--> 137\u001b[0;31m         \u001b[0mmm\u001b[0m\u001b[0;34m.\u001b[0m\u001b[0mLocalEnergyMinimizer\u001b[0m\u001b[0;34m.\u001b[0m\u001b[0mminimize\u001b[0m\u001b[0;34m(\u001b[0m\u001b[0mself\u001b[0m\u001b[0;34m.\u001b[0m\u001b[0mcontext\u001b[0m\u001b[0;34m,\u001b[0m \u001b[0mtolerance\u001b[0m\u001b[0;34m,\u001b[0m \u001b[0mmaxIterations\u001b[0m\u001b[0;34m)\u001b[0m\u001b[0;34m\u001b[0m\u001b[0;34m\u001b[0m\u001b[0m\n\u001b[0m",
      "\u001b[0;32m/opt/conda/lib/python3.9/site-packages/openmm/openmm.py\u001b[0m in \u001b[0;36m?\u001b[0;34m(context, tolerance, maxIterations)\u001b[0m\n\u001b[1;32m  17204\u001b[0m             \u001b[0mthis\u001b[0m \u001b[0mspecifies\u001b[0m \u001b[0mhow\u001b[0m \u001b[0mprecisely\u001b[0m \u001b[0mthe\u001b[0m \u001b[0menergy\u001b[0m \u001b[0mminimum\u001b[0m \u001b[0mmust\u001b[0m \u001b[0mbe\u001b[0m \u001b[0mlocated\u001b[0m\u001b[0;34m.\u001b[0m \u001b[0mMinimization\u001b[0m \u001b[0mwill\u001b[0m \u001b[0mbe\u001b[0m \u001b[0mhalted\u001b[0m \u001b[0monce\u001b[0m \u001b[0mthe\u001b[0m \u001b[0mroot\u001b[0m\u001b[0;34m-\u001b[0m\u001b[0mmean\u001b[0m\u001b[0;34m-\u001b[0m\u001b[0msquare\u001b[0m \u001b[0mvalue\u001b[0m \u001b[0mof\u001b[0m \u001b[0mall\u001b[0m \u001b[0mforce\u001b[0m \u001b[0mcomponents\u001b[0m \u001b[0mreaches\u001b[0m \u001b[0mthis\u001b[0m \u001b[0mtolerance\u001b[0m\u001b[0;34m.\u001b[0m \u001b[0mThe\u001b[0m \u001b[0mdefault\u001b[0m \u001b[0mvalue\u001b[0m \u001b[0;32mis\u001b[0m \u001b[0;36m10.\u001b[0m\u001b[0;34m\u001b[0m\u001b[0;34m\u001b[0m\u001b[0m\n\u001b[1;32m  17205\u001b[0m         \u001b[0mmaxIterations\u001b[0m \u001b[0;34m:\u001b[0m \u001b[0mint\u001b[0m\u001b[0;34m\u001b[0m\u001b[0;34m\u001b[0m\u001b[0m\n\u001b[1;32m  17206\u001b[0m             \u001b[0mthe\u001b[0m \u001b[0mmaximum\u001b[0m \u001b[0mnumber\u001b[0m \u001b[0mof\u001b[0m \u001b[0miterations\u001b[0m \u001b[0mto\u001b[0m \u001b[0mperform\u001b[0m\u001b[0;34m.\u001b[0m \u001b[0mIf\u001b[0m \u001b[0mthis\u001b[0m \u001b[0;32mis\u001b[0m \u001b[0;36m0\u001b[0m\u001b[0;34m,\u001b[0m \u001b[0mminimation\u001b[0m \u001b[0;32mis\u001b[0m \u001b[0mcontinued\u001b[0m \u001b[0muntil\u001b[0m \u001b[0mthe\u001b[0m \u001b[0mresults\u001b[0m \u001b[0mconverge\u001b[0m \u001b[0mwithout\u001b[0m \u001b[0mregard\u001b[0m \u001b[0mto\u001b[0m \u001b[0mhow\u001b[0m \u001b[0mmany\u001b[0m \u001b[0miterations\u001b[0m \u001b[0mit\u001b[0m \u001b[0mtakes\u001b[0m\u001b[0;34m.\u001b[0m \u001b[0mThe\u001b[0m \u001b[0mdefault\u001b[0m \u001b[0mvalue\u001b[0m \u001b[0;32mis\u001b[0m \u001b[0;36m0.\u001b[0m\u001b[0;34m\u001b[0m\u001b[0;34m\u001b[0m\u001b[0m\n\u001b[1;32m  17207\u001b[0m         \"\"\"\n\u001b[0;32m> 17208\u001b[0;31m         \u001b[0;32mreturn\u001b[0m \u001b[0m_openmm\u001b[0m\u001b[0;34m.\u001b[0m\u001b[0mLocalEnergyMinimizer_minimize\u001b[0m\u001b[0;34m(\u001b[0m\u001b[0mcontext\u001b[0m\u001b[0;34m,\u001b[0m \u001b[0mtolerance\u001b[0m\u001b[0;34m,\u001b[0m \u001b[0mmaxIterations\u001b[0m\u001b[0;34m)\u001b[0m\u001b[0;34m\u001b[0m\u001b[0;34m\u001b[0m\u001b[0m\n\u001b[0m",
      "\u001b[0;31mOpenMMException\u001b[0m: Particle coordinate is NaN.  For more information, see https://github.com/openmm/openmm/wiki/Frequently-Asked-Questions#nan"
     ]
    }
   ],
   "source": [
    "# Uncomment the blow line to use GPU accelleration\n",
    "#platform = Platform.getPlatformByName('CUDA')\n",
    "\n",
    "# setting of the chemical system\n",
    "system = forcefield.createSystem(modeller.topology, nonbondedMethod=NoCutoff,\n",
    "        nonbondedCutoff=1*nanometer, constraints=HBonds)\n",
    "\n",
    "# settings for how bit the timestep should be\n",
    "integrator = LangevinMiddleIntegrator(300*kelvin, 1/picosecond, 0.004*picoseconds)\n",
    "\n",
    "# Collect everything together to make a simulation instance\n",
    "simulation = Simulation(modeller.topology, system, integrator)\n",
    "\n",
    "# Set starting positions\n",
    "simulation.context.setPositions(modeller.positions)\n",
    "simulation.minimizeEnergy()\n",
    "\n",
    "# File location to save output and how often to save\n",
    "simulation.reporters.append(DCDReporter('assets/cookbook/first_output.dcd', 25))\n",
    "simulation.reporters.append(XTCReporter('assets/cookbook/first_output.xtc', 25))\n",
    "\n",
    "# Report the physical properties\n",
    "simulation.reporters.append(StateDataReporter(stdout, 100, step=True,\n",
    "        potentialEnergy=True, temperature=True))\n",
    "\n",
    "# Number of steps to run\n",
    "simulation.step(4000)"
   ]
  },
  {
   "cell_type": "markdown",
   "id": "038723f5-92a1-4d6c-9c66-5b296664c566",
   "metadata": {},
   "source": [
    "# Analysing the output\n",
    "\n",
    "Notice that every 100 steps that we get a report on the state of the system\". It takes around 1000 steps to reach our target temperature."
   ]
  },
  {
   "cell_type": "code",
   "execution_count": 50,
   "id": "85fb8b08-97f9-4ac7-910f-dc280cac072e",
   "metadata": {
    "tags": []
   },
   "outputs": [
    {
     "name": "stdout",
     "output_type": "stream",
     "text": [
      "Trajectory has 160 frames\n"
     ]
    },
    {
     "data": {
      "application/vnd.jupyter.widget-view+json": {
       "model_id": "ea3a337d69164d7099c604826ae5842b",
       "version_major": 2,
       "version_minor": 0
      },
      "text/plain": [
       "NGLWidget(max_frame=159)"
      ]
     },
     "metadata": {},
     "output_type": "display_data"
    }
   ],
   "source": [
    "import mdtraj as md\n",
    "import nglview as nv\n",
    "\n",
    "import MDAnalysis as mda\n",
    "\n",
    "\n",
    "traj = nv.SimpletrajTrajectory(\"assets/cookbook/first_output.dcd\", \"assets/cookbook/temp.pdb\")\n",
    "print(f\"Trajectory has {traj.n_frames} frames\")\n",
    "viewtraj = nv.show_simpletraj(traj)\n",
    "viewtraj.add_unitcell()\n",
    "viewtraj "
   ]
  },
  {
   "cell_type": "markdown",
   "id": "13682f75-ecff-431e-b80e-9f5c90520f13",
   "metadata": {},
   "source": [
    "# Exporting the new trajectory ready for visualisation in Nanome"
   ]
  },
  {
   "cell_type": "code",
   "execution_count": 25,
   "id": "3b389221-d253-44c2-9e65-10663aae970e",
   "metadata": {},
   "outputs": [],
   "source": [
    "from MDAnalysis import  Writer\n",
    "import MDAnalysis as mda\n",
    "from simtk.openmm.app import Modeller, ForceField, PDBFile\n",
    "\n",
    "u = mda.Universe(modeller.topology, \"assets/cookbook/first_output.dcd\")\n",
    "protein = u.select_atoms(\"protein\")\n",
    "with Writer(\"assets/cookbook/fist_output.xtc\", u.trajectory) as W:\n",
    "    for ts in u.trajectory:\n",
    "        W.write(protein)"
   ]
  },
  {
   "cell_type": "code",
   "execution_count": null,
   "id": "656099a0-7bac-4176-987f-170f293f7070",
   "metadata": {},
   "outputs": [],
   "source": []
  }
 ],
 "metadata": {
  "kernelspec": {
   "display_name": "Python 3 (ipykernel)",
   "language": "python",
   "name": "python3"
  },
  "language_info": {
   "codemirror_mode": {
    "name": "ipython",
    "version": 3
   },
   "file_extension": ".py",
   "mimetype": "text/x-python",
   "name": "python",
   "nbconvert_exporter": "python",
   "pygments_lexer": "ipython3",
   "version": "3.9.18"
  }
 },
 "nbformat": 4,
 "nbformat_minor": 5
}
