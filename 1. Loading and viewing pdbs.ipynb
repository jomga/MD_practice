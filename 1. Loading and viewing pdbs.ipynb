{
 "cells": [
  {
   "cell_type": "markdown",
   "id": "d0e47e56-fd01-4bc8-ae08-152ea8263dfb",
   "metadata": {
    "editable": true,
    "slideshow": {
     "slide_type": ""
    },
    "tags": []
   },
   "source": [
    "# Loading a PDB File and Visualizing in a Notebook\n",
    "Jupyter Notebook is a versatile open-source web application that allows for the creation and sharing of documents containing live code, equations, visualizations, and narrative text. It's widely used in data science and scientific computing but is equally suited to general programming tasks. Notebooks are composed of individual cells that can hold code, text, or markdown. These cells can be run independently, which means you can execute specific sections of code and observe the results in real-time. This encourages hands-on exploration and data-driven experimentation.\n",
    "\n",
    "In this Jupyter Notebook, we'll use OpenMM and NGLview to load and visualize protein structures. Notebooks provide an interactive environment that is flexible and conducive to experimentation.\n",
    "\n",
    "## NGLview\n",
    "NGLview is a browser-based molecular viewer that offers a convenient way to inspect changes we make to PDB files or molecular structures. Although its functionality is somewhat limited, NGLview is immensely helpful in understanding structures before devoting significant resources to running simulations.\n",
    "\n",
    "The first cell below loads the protein kinase-inhibitor complex 5CEO. In this instance, we're retrieving the protein structure from a local file bundled with this notebook. However, it's important to note that NGLview can directly fetch structures from the RCSB Protein Data Bank as well."
   ]
  },
  {
   "cell_type": "code",
   "execution_count": 1,
   "id": "26a3780a-4afa-41a6-a9c1-25cac838ddfc",
   "metadata": {
    "editable": true,
    "slideshow": {
     "slide_type": ""
    },
    "tags": []
   },
   "outputs": [
    {
     "data": {
      "application/vnd.jupyter.widget-view+json": {
       "model_id": "492cf82937754366971ac010c4289206",
       "version_major": 2,
       "version_minor": 0
      },
      "text/plain": []
     },
     "metadata": {},
     "output_type": "display_data"
    },
    {
     "data": {
      "application/vnd.jupyter.widget-view+json": {
       "model_id": "4b4812649618402596a91c870a9a2074",
       "version_major": 2,
       "version_minor": 0
      },
      "text/plain": [
       "NGLWidget()"
      ]
     },
     "metadata": {},
     "output_type": "display_data"
    }
   ],
   "source": [
    "import nglview as nv\n",
    "view = nv.show_structure_file(\"assets/cookbook/5ceo.pdb\")\n",
    "# Which for PDBs already on the RSDB database is the same as\n",
    "view = nv.show_pdbid(\"5ceo\")\n",
    "view"
   ]
  },
  {
   "cell_type": "markdown",
   "id": "68c35ef3-a192-4dde-a1c8-18ed995d4b20",
   "metadata": {
    "editable": true,
    "slideshow": {
     "slide_type": ""
    },
    "tags": []
   },
   "source": [
    "### Changing how the ligand looks\n",
    "The bellow command makes the ligand spacefill VDW, in the above cell"
   ]
  },
  {
   "cell_type": "code",
   "execution_count": null,
   "id": "7d1aeb91-43ec-463f-b357-08eb6c5122b3",
   "metadata": {
    "tags": []
   },
   "outputs": [],
   "source": [
    "view.add_representation(\"spacefill\",\"ligand\")"
   ]
  },
  {
   "cell_type": "markdown",
   "id": "c80d200b-a529-4564-9057-a840bc7ab4f0",
   "metadata": {},
   "source": [
    "# Changing how the protein looks\n",
    "\n",
    "Similar to how Nanome can change the rendering of a protine or ligand we can do the same with NGLview. The below code adds a surface to the view and makes the rendering semitransparent."
   ]
  },
  {
   "cell_type": "code",
   "execution_count": 2,
   "id": "fa98805a-40f6-4716-9572-a7c9917847cc",
   "metadata": {
    "tags": []
   },
   "outputs": [],
   "source": [
    "view.clear_representations()\n",
    "view.add_cartoon()\n",
    "view.add_surface('.CA', opacity=0.3)\n",
    "#view.add_licorice('not hydrogen')"
   ]
  },
  {
   "cell_type": "markdown",
   "id": "9a86311e-fda5-41f2-aadb-7e8f12c40a52",
   "metadata": {},
   "source": [
    "### Going back to default view"
   ]
  },
  {
   "cell_type": "code",
   "execution_count": null,
   "id": "65c6ca05-8908-4d09-ad20-1a0c7f260ef3",
   "metadata": {
    "tags": []
   },
   "outputs": [],
   "source": [
    "view.clear_representations()\n",
    "view.add_representation(\"ribbon\",color_scheme=\"residueindex\")\n",
    "view.add_ball_and_stick(\"ligand\")"
   ]
  },
  {
   "cell_type": "markdown",
   "id": "84faa8bb-d82d-4978-a6d7-1147fc098c52",
   "metadata": {},
   "source": [
    "### What colour schemes can we pick from?"
   ]
  },
  {
   "cell_type": "code",
   "execution_count": null,
   "id": "994b9155-c809-49a4-9026-82d459fa99fc",
   "metadata": {},
   "outputs": [],
   "source": [
    "print(nv.color.COLOR_SCHEMES[1:])\n",
    "# We can pick the name of a sting from any of the blow generated list"
   ]
  },
  {
   "cell_type": "markdown",
   "id": "123e50b5-8f71-4251-bcb0-899efb9cc48f",
   "metadata": {
    "tags": []
   },
   "source": [
    "### Playing back a molecular dynamics trajectory from a file\n",
    "\n",
    "There are a number of ways of viewing trajectories in NGLview, but bellow is one of the simplest ways by using simpletraj. In this case the topology or \"connectivity\" are held in the gro file and the  coordinates are held in the xtc file, which is structured similar to a movie file, with each frame being a step in the MD simulation."
   ]
  },
  {
   "cell_type": "code",
   "execution_count": 2,
   "id": "a2823115-655d-466b-a29e-f5ec5ef5d7a0",
   "metadata": {
    "tags": []
   },
   "outputs": [
    {
     "name": "stdout",
     "output_type": "stream",
     "text": [
      "Trajectory has 201 frames\n"
     ]
    },
    {
     "data": {
      "application/vnd.jupyter.widget-view+json": {
       "model_id": "24664b8d92bb46a18aaa968bcbeb65e6",
       "version_major": 2,
       "version_minor": 0
      },
      "text/plain": [
       "NGLWidget(max_frame=200)"
      ]
     },
     "metadata": {},
     "output_type": "display_data"
    }
   ],
   "source": [
    "traj = nv.SimpletrajTrajectory(\"assets/cookbook/6OIM_traj.xtc\", \"assets/cookbook/6OIM_coord.gro\")\n",
    "print(f\"Trajectory has {traj.n_frames} frames\")\n",
    "viewtraj = nv.show_simpletraj(traj)\n",
    "viewtraj "
   ]
  },
  {
   "cell_type": "code",
   "execution_count": 1,
   "id": "ababa6b6-d8c6-49f4-96f5-74196a2b7607",
   "metadata": {
    "tags": []
   },
   "outputs": [
    {
     "name": "stdout",
     "output_type": "stream",
     "text": [
      "redis 6379 None YLAC8StAPiBtsJf6\n"
     ]
    },
    {
     "ename": "TimeoutError",
     "evalue": "Timeout waiting for response from RPC get_plugin_data",
     "output_type": "error",
     "traceback": [
      "\u001b[0;31m---------------------------------------------------------------------------\u001b[0m",
      "\u001b[0;31mTimeoutError\u001b[0m                              Traceback (most recent call last)",
      "Cell \u001b[0;32mIn[1], line 12\u001b[0m\n\u001b[1;32m      9\u001b[0m \u001b[38;5;28mprint\u001b[39m(redis_host, redis_port, redis_password,redis_channel)\n\u001b[1;32m     11\u001b[0m plugin \u001b[38;5;241m=\u001b[39m PluginInstanceRedisInterface(redis_host, redis_port, redis_password, redis_channel)\n\u001b[0;32m---> 12\u001b[0m \u001b[43mplugin\u001b[49m\u001b[38;5;241;43m.\u001b[39;49m\u001b[43mconnect\u001b[49m\u001b[43m(\u001b[49m\u001b[43m)\u001b[49m\n\u001b[1;32m     13\u001b[0m \u001b[38;5;28mprint\u001b[39m(\u001b[38;5;124m'\u001b[39m\u001b[38;5;124mPlugin Connected\u001b[39m\u001b[38;5;124m'\u001b[39m)\n",
      "File \u001b[0;32m/opt/conda/lib/python3.9/site-packages/nanome/beta/redis_interface.py:57\u001b[0m, in \u001b[0;36mPluginInstanceRedisInterface.connect\u001b[0;34m(self)\u001b[0m\n\u001b[1;32m     55\u001b[0m \u001b[38;5;250m\u001b[39m\u001b[38;5;124;03m\"\"\"Ping Redis, and then get data from plugin required for serialization.\"\"\"\u001b[39;00m\n\u001b[1;32m     56\u001b[0m \u001b[38;5;28mself\u001b[39m\u001b[38;5;241m.\u001b[39mredis\u001b[38;5;241m.\u001b[39mping()\n\u001b[0;32m---> 57\u001b[0m plugin_data \u001b[38;5;241m=\u001b[39m \u001b[38;5;28;43mself\u001b[39;49m\u001b[38;5;241;43m.\u001b[39;49m\u001b[43mget_plugin_data\u001b[49m\u001b[43m(\u001b[49m\u001b[43m)\u001b[49m\n\u001b[1;32m     58\u001b[0m \u001b[38;5;28mself\u001b[39m\u001b[38;5;241m.\u001b[39mplugin_id \u001b[38;5;241m=\u001b[39m plugin_data[\u001b[38;5;124m'\u001b[39m\u001b[38;5;124mplugin_id\u001b[39m\u001b[38;5;124m'\u001b[39m]\n\u001b[1;32m     59\u001b[0m \u001b[38;5;28mself\u001b[39m\u001b[38;5;241m.\u001b[39msession_id \u001b[38;5;241m=\u001b[39m plugin_data[\u001b[38;5;124m'\u001b[39m\u001b[38;5;124msession_id\u001b[39m\u001b[38;5;124m'\u001b[39m]\n",
      "File \u001b[0;32m/opt/conda/lib/python3.9/site-packages/nanome/beta/redis_interface.py:245\u001b[0m, in \u001b[0;36mPluginInstanceRedisInterface.get_plugin_data\u001b[0;34m(self)\u001b[0m\n\u001b[1;32m    243\u001b[0m expects_response \u001b[38;5;241m=\u001b[39m \u001b[38;5;28;01mTrue\u001b[39;00m\n\u001b[1;32m    244\u001b[0m message \u001b[38;5;241m=\u001b[39m \u001b[38;5;28mself\u001b[39m\u001b[38;5;241m.\u001b[39m_build_message(function_name, \u001b[38;5;28;01mNone\u001b[39;00m, \u001b[38;5;28;01mNone\u001b[39;00m, expects_response)\n\u001b[0;32m--> 245\u001b[0m response \u001b[38;5;241m=\u001b[39m \u001b[38;5;28;43mself\u001b[39;49m\u001b[38;5;241;43m.\u001b[39;49m\u001b[43m_rpc_request\u001b[49m\u001b[43m(\u001b[49m\u001b[43mmessage\u001b[49m\u001b[43m,\u001b[49m\u001b[43m \u001b[49m\u001b[43mexpects_response\u001b[49m\u001b[38;5;241;43m=\u001b[39;49m\u001b[43mexpects_response\u001b[49m\u001b[43m)\u001b[49m\n\u001b[1;32m    246\u001b[0m \u001b[38;5;28;01mreturn\u001b[39;00m response\n",
      "File \u001b[0;32m/opt/conda/lib/python3.9/site-packages/nanome/beta/redis_interface.py:216\u001b[0m, in \u001b[0;36mPluginInstanceRedisInterface._rpc_request\u001b[0;34m(self, message, expects_response)\u001b[0m\n\u001b[1;32m    214\u001b[0m message \u001b[38;5;241m=\u001b[39m pubsub\u001b[38;5;241m.\u001b[39mget_message()\n\u001b[1;32m    215\u001b[0m \u001b[38;5;28;01mif\u001b[39;00m time\u001b[38;5;241m.\u001b[39mtime() \u001b[38;5;241m>\u001b[39m\u001b[38;5;241m=\u001b[39m start_time \u001b[38;5;241m+\u001b[39m NTS_RESPONSE_TIMEOUT:\n\u001b[0;32m--> 216\u001b[0m     \u001b[38;5;28;01mraise\u001b[39;00m \u001b[38;5;167;01mTimeoutError\u001b[39;00m(\u001b[38;5;124mf\u001b[39m\u001b[38;5;124m\"\u001b[39m\u001b[38;5;124mTimeout waiting for response from RPC \u001b[39m\u001b[38;5;132;01m{\u001b[39;00mfunction_name\u001b[38;5;132;01m}\u001b[39;00m\u001b[38;5;124m\"\u001b[39m)\n\u001b[1;32m    217\u001b[0m \u001b[38;5;28;01mif\u001b[39;00m \u001b[38;5;129;01mnot\u001b[39;00m message:\n\u001b[1;32m    218\u001b[0m     \u001b[38;5;28;01mcontinue\u001b[39;00m\n",
      "\u001b[0;31mTimeoutError\u001b[0m: Timeout waiting for response from RPC get_plugin_data"
     ]
    }
   ],
   "source": [
    "from nanome.beta.redis_interface import PluginInstanceRedisInterface\n",
    "import os\n",
    "\n",
    "# Set up redis credentials\n",
    "redis_host = os.environ.get(\"REDIS_HOST\")\n",
    "redis_port = os.environ.get(\"REDIS_PORT\")\n",
    "redis_password = os.environ.get(\"REDIS_PASSWORD\")\n",
    "redis_channel = os.environ.get(\"REDIS_CHANNEL\")\n",
    "print(redis_host, redis_port, redis_password,redis_channel)\n",
    "\n",
    "plugin = PluginInstanceRedisInterface(redis_host, redis_port, redis_password, redis_channel)\n",
    "plugin.connect()\n",
    "print('Plugin Connected')"
   ]
  },
  {
   "cell_type": "code",
   "execution_count": null,
   "id": "ccb1c643-9b59-4426-bc49-c1d2adbb0bef",
   "metadata": {
    "tags": []
   },
   "outputs": [],
   "source": [
    "# Add original pdb to workspace\n",
    "pdb_file = \"assets/cookbook/6OIM.pdb\"\n",
    "plugin.send_files_to_load([pdb_file])"
   ]
  },
  {
   "cell_type": "code",
   "execution_count": null,
   "id": "beb7b668-745f-487f-9742-e57f5177cae5",
   "metadata": {
    "tags": []
   },
   "outputs": [],
   "source": [
    "# Get complex\n",
    "comp = plugin.request_workspace().complexes[-1]"
   ]
  },
  {
   "cell_type": "code",
   "execution_count": null,
   "id": "2f4ebe79-5a5c-444a-9d73-afad14159e61",
   "metadata": {
    "tags": []
   },
   "outputs": [],
   "source": [
    "# Setup stream to update atom positions on the fly.\n",
    "from nanome.util import enums\n",
    "\n",
    "stream_type = enums.StreamType.position\n",
    "atom_indices = [atm.index for atm in comp.atoms]\n",
    "strm = plugin.create_writing_stream(atom_indices, stream_type)"
   ]
  },
  {
   "cell_type": "code",
   "execution_count": null,
   "id": "24f465f9-8cb3-4c45-857f-fed50e767d13",
   "metadata": {
    "tags": []
   },
   "outputs": [],
   "source": [
    "# Loop through all the frames and render positions in Nanome.\n",
    "frame_count = traj.n_frames\n",
    "for i in range(0, frame_count):\n",
    "    # print(f\"Frame {i+1} of {frame_count}\")\n",
    "    coords = traj.get_coordinates(i)\n",
    "    stream_data = []\n",
    "    for coord in coords:\n",
    "        stream_data.extend(coord)\n",
    "    plugin.update_stream(strm, stream_data)"
   ]
  },
  {
   "cell_type": "code",
   "execution_count": null,
   "id": "3e59e905-5206-45cf-ba50-d9f8192c1407",
   "metadata": {},
   "outputs": [],
   "source": []
  }
 ],
 "metadata": {
  "kernelspec": {
   "display_name": "Python 3 (ipykernel)",
   "language": "python",
   "name": "python3"
  },
  "language_info": {
   "codemirror_mode": {
    "name": "ipython",
    "version": 3
   },
   "file_extension": ".py",
   "mimetype": "text/x-python",
   "name": "python",
   "nbconvert_exporter": "python",
   "pygments_lexer": "ipython3",
   "version": "3.9.18"
  }
 },
 "nbformat": 4,
 "nbformat_minor": 5
}
