{
 "cells": [
  {
   "cell_type": "markdown",
   "id": "5e538293-bdeb-4502-b503-b0b390ec1739",
   "metadata": {},
   "source": [
    "# Preparing Structures Using OpenMM\n",
    "\n",
    "In the previous notebook, we demonstrated how to load and visualize a PDB file, either from a local source or directly from the RCSB Protein Data Bank. Most crystal structures, however, lack hydrogen atoms and solvents, which are critical for accurate molecular dynamics (MD) simulations. In this section, we'll address these missing components to prepare our structure for MD simulation.\n",
    "\n",
    "It's worth noting that the presence of non-standard residues or ligands can complicate the application of force fields, as classical MD relies on predefined parameters (bonds, angles, etc.) for simulation. To simplify our example, we'll remove ligands and focus solely on the protein.\n",
    "\n",
    "Software tools like Antechamber and PDB4amber can help correct structures, ensuring they're suitably prepared for MD simulations.\n",
    "\n",
    "# OpenMM\n",
    "OpenMM is a versatile molecular dynamics package capable of simulating condensed phase chemistry using a variety of force fields. Its main advantage is its ease of installation and a user-friendly Python interface, which we'll leverage in the following steps.\n",
    "\n",
    "For a deeper understanding of OpenMM and its capabilities, refer to the user guide here: http://docs.openmm.org/latest/userguide/introduction.html# S"
   ]
  },
  {
   "cell_type": "markdown",
   "id": "925ab824-8570-410b-8fa4-0eecbf1d30ef",
   "metadata": {},
   "source": [
    "# Molecular dynamics\n",
    "\n",
    "Molecular dynamics (MD) is a simulation method used to model the time-dependent behavior of atoms and molecules. In the realm of protein science, this technique is most commonly realized by using pre-tabulated forces that describe familiar chemical interactions, such as bonds, angles, dihedrals, and non-bonded interactions. These forces are usually derived from high-level simulations and then fitted into a classical mechanics framework, often representing bonds as a harmonic potential (akin to a spring potential).\n",
    "\n",
    "This choice of bonding description is advantageous because its simplistic functional form allows for rapid computation. However, it typically lacks the ability to accurately represent the dissociation of molecular bonds, meaning that the connectivity at the start of the simulation is the same at the end. There exist several ways to enhance this model, such as ReaxFF, but they fall beyond the scope of this workbook.\n",
    "\n",
    "Proteins, RNA, and DNA are particularly well-suited to this approach as they are typically composed of repeating molecular units, allowing for a robust construction and tabulation of force field parameters. However, the inherent conformational flexibility of these biomolecules can be a drawback, as they can adopt a multitude of conformations that are necessary to describe their activities.\n",
    "\n",
    "One area where MD proves invaluable is in cases where a crystal structure doesn't illuminate a potential binding pocket. This is common in cryptic pockets, where the ground state structure doesn't represent the active form of the protein. In such cases, to investigate the protein more closely, it must be thermalized so that conformational changes can reveal potential target pockets.\n",
    "\n"
   ]
  },
  {
   "cell_type": "markdown",
   "id": "001f3a62-3535-4bbf-beab-0f9ab333bb5e",
   "metadata": {
    "tags": []
   },
   "source": [
    "### Prepping the protein for dynamics\n",
    "\n",
    "The bellow cell takes a PDB and tries to clean it so that it is ready for simualtion.\n",
    "\n",
    "Import required libraries: The code begins by importing the necessary libraries and modules, such as OpenMM for running Molecular Dynamics simulations and PDBFixer for fixing issues in the PDB file.\n",
    "\n",
    "The cose is broken down as follows\n",
    "\n",
    "1. **Import required libraries**: The code begins by importing the necessary libraries and modules, such as OpenMM for running Molecular Dynamics simulations and PDBFixer for fixing issues in the PDB file.\n",
    "2. **Define input and output PDB files**: Here, the input PDB file (pdb_start) is specified, along with the cleaned output file (pdb_out).\n",
    "3. **Clean PDB records using pdb4amber**: The pdb4amber utility is used to clean up records in the PDB file for compatibility with the Amber force field. The resulting cleaned PDB file is saved as 'pdb_out'.\n",
    "4. **Add hydrogens using Reduce**: The Reduce program is used to add hydrogens to the cleaned PDB file according to Amber's preferences. The PDB file with added hydrogens is again saved as 'pdb_out'.\n",
    "5. **Fix structural issues with PDBFixer**: OpenMM's PDBFixer is used to address any remaining issues in the PDB file, such as missing residues, nonstandard residues, and heterogens. Missing atoms and hydrogens are added based on a specified pH of 7.0. The final PDB file is saved as 'pdb_out'.\n",
    "\n",
    "The result is a cleaned and fixed PDB file that is suitable for Molecular Dynamics simulations. The code ensures that the protein structure is compatible with the chosen force field, and that any missing or problematic atoms, residues, or heterogens have been addressed.\n",
    "\n",
    "## This will produce a lot of output!!\n"
   ]
  },
  {
   "cell_type": "code",
   "execution_count": 2,
   "id": "e24b41b5-b769-452c-8c66-51b03234a5bb",
   "metadata": {
    "tags": []
   },
   "outputs": [
    {
     "name": "stderr",
     "output_type": "stream",
     "text": [
      "\n",
      "==================================================\n",
      "Summary of pdb4amber for: assets/cookbook/pdbs/7oun.pdb\n",
      "===================================================\n",
      "\n",
      "----------Chains\n",
      "The following (original) chains have been found:\n",
      "A\n",
      "B\n",
      "\n",
      "---------- Alternate Locations (Original Residues!))\n",
      "\n",
      "The following residues had alternate locations:\n",
      "CYS_40\n",
      "TYR_56\n",
      "VAL_68\n",
      "ASN_96\n",
      "CYS_114\n",
      "-----------Non-standard-resnames\n",
      "\n",
      "Traceback (most recent call last):\n",
      "  File \"/opt/conda/bin/pdb4amber\", line 33, in <module>\n",
      "    sys.exit(load_entry_point('pdb4amber==22.0', 'console_scripts', 'pdb4amber')())\n",
      "  File \"/opt/conda/lib/python3.9/site-packages/pdb4amber/pdb4amber.py\", line 819, in main\n",
      "    run(\n",
      "  File \"/opt/conda/lib/python3.9/site-packages/pdb4amber/pdb4amber.py\", line 579, in run\n",
      "    gaplist = pdbfixer.find_gaps()\n",
      "  File \"/opt/conda/lib/python3.9/site-packages/pdb4amber/pdb4amber.py\", line 208, in find_gaps\n",
      "    N_atom = parm.atoms[N_atoms[i + 1]]\n",
      "IndexError: list index out of range\n"
     ]
    },
    {
     "ename": "CalledProcessError",
     "evalue": "Command '['pdb4amber', '--nohyd', '--dry', 'assets/cookbook/pdbs/7oun.pdb']' returned non-zero exit status 1.",
     "output_type": "error",
     "traceback": [
      "\u001b[0;31m---------------------------------------------------------------------------\u001b[0m",
      "\u001b[0;31mCalledProcessError\u001b[0m                        Traceback (most recent call last)",
      "Cell \u001b[0;32mIn[2], line 15\u001b[0m\n\u001b[1;32m     12\u001b[0m pdb_out \u001b[38;5;241m=\u001b[39m \u001b[38;5;124m'\u001b[39m\u001b[38;5;124massets/cookbook/cleaned_output.pdb\u001b[39m\u001b[38;5;124m'\u001b[39m\n\u001b[1;32m     14\u001b[0m \u001b[38;5;66;03m# Use amber4pdb to clean up records for use with amber forcefield\u001b[39;00m\n\u001b[0;32m---> 15\u001b[0m out \u001b[38;5;241m=\u001b[39m \u001b[43msubprocess\u001b[49m\u001b[38;5;241;43m.\u001b[39;49m\u001b[43mcheck_output\u001b[49m\u001b[43m(\u001b[49m\u001b[43m[\u001b[49m\u001b[38;5;124;43m\"\u001b[39;49m\u001b[38;5;124;43mpdb4amber\u001b[39;49m\u001b[38;5;124;43m\"\u001b[39;49m\u001b[43m,\u001b[49m\u001b[43m \u001b[49m\u001b[38;5;124;43m\"\u001b[39;49m\u001b[38;5;124;43m--nohyd\u001b[39;49m\u001b[38;5;124;43m\"\u001b[39;49m\u001b[43m,\u001b[49m\u001b[38;5;124;43m\"\u001b[39;49m\u001b[38;5;124;43m--dry\u001b[39;49m\u001b[38;5;124;43m\"\u001b[39;49m\u001b[43m,\u001b[49m\u001b[43m \u001b[49m\u001b[43mpdb_start\u001b[49m\u001b[43m]\u001b[49m\u001b[43m)\u001b[49m\u001b[38;5;66;03m#\u001b[39;00m\n\u001b[1;32m     16\u001b[0m \u001b[38;5;28;01mwith\u001b[39;00m \u001b[38;5;28mopen\u001b[39m(pdb_out, \u001b[38;5;124m'\u001b[39m\u001b[38;5;124mwb\u001b[39m\u001b[38;5;124m'\u001b[39m) \u001b[38;5;28;01mas\u001b[39;00m f:\n\u001b[1;32m     17\u001b[0m     f\u001b[38;5;241m.\u001b[39mwrite(out)  \n",
      "File \u001b[0;32m/opt/conda/lib/python3.9/subprocess.py:424\u001b[0m, in \u001b[0;36mcheck_output\u001b[0;34m(timeout, *popenargs, **kwargs)\u001b[0m\n\u001b[1;32m    421\u001b[0m         empty \u001b[38;5;241m=\u001b[39m \u001b[38;5;124mb\u001b[39m\u001b[38;5;124m'\u001b[39m\u001b[38;5;124m'\u001b[39m\n\u001b[1;32m    422\u001b[0m     kwargs[\u001b[38;5;124m'\u001b[39m\u001b[38;5;124minput\u001b[39m\u001b[38;5;124m'\u001b[39m] \u001b[38;5;241m=\u001b[39m empty\n\u001b[0;32m--> 424\u001b[0m \u001b[38;5;28;01mreturn\u001b[39;00m \u001b[43mrun\u001b[49m\u001b[43m(\u001b[49m\u001b[38;5;241;43m*\u001b[39;49m\u001b[43mpopenargs\u001b[49m\u001b[43m,\u001b[49m\u001b[43m \u001b[49m\u001b[43mstdout\u001b[49m\u001b[38;5;241;43m=\u001b[39;49m\u001b[43mPIPE\u001b[49m\u001b[43m,\u001b[49m\u001b[43m \u001b[49m\u001b[43mtimeout\u001b[49m\u001b[38;5;241;43m=\u001b[39;49m\u001b[43mtimeout\u001b[49m\u001b[43m,\u001b[49m\u001b[43m \u001b[49m\u001b[43mcheck\u001b[49m\u001b[38;5;241;43m=\u001b[39;49m\u001b[38;5;28;43;01mTrue\u001b[39;49;00m\u001b[43m,\u001b[49m\n\u001b[1;32m    425\u001b[0m \u001b[43m           \u001b[49m\u001b[38;5;241;43m*\u001b[39;49m\u001b[38;5;241;43m*\u001b[39;49m\u001b[43mkwargs\u001b[49m\u001b[43m)\u001b[49m\u001b[38;5;241m.\u001b[39mstdout\n",
      "File \u001b[0;32m/opt/conda/lib/python3.9/subprocess.py:528\u001b[0m, in \u001b[0;36mrun\u001b[0;34m(input, capture_output, timeout, check, *popenargs, **kwargs)\u001b[0m\n\u001b[1;32m    526\u001b[0m     retcode \u001b[38;5;241m=\u001b[39m process\u001b[38;5;241m.\u001b[39mpoll()\n\u001b[1;32m    527\u001b[0m     \u001b[38;5;28;01mif\u001b[39;00m check \u001b[38;5;129;01mand\u001b[39;00m retcode:\n\u001b[0;32m--> 528\u001b[0m         \u001b[38;5;28;01mraise\u001b[39;00m CalledProcessError(retcode, process\u001b[38;5;241m.\u001b[39margs,\n\u001b[1;32m    529\u001b[0m                                  output\u001b[38;5;241m=\u001b[39mstdout, stderr\u001b[38;5;241m=\u001b[39mstderr)\n\u001b[1;32m    530\u001b[0m \u001b[38;5;28;01mreturn\u001b[39;00m CompletedProcess(process\u001b[38;5;241m.\u001b[39margs, retcode, stdout, stderr)\n",
      "\u001b[0;31mCalledProcessError\u001b[0m: Command '['pdb4amber', '--nohyd', '--dry', 'assets/cookbook/pdbs/7oun.pdb']' returned non-zero exit status 1."
     ]
    }
   ],
   "source": [
    "from openmm.app import * \n",
    "from openmm import *\n",
    "from openmm.unit import *\n",
    "from openmm.openmm import *\n",
    "from pdbfixer import PDBFixer\n",
    "import subprocess\n",
    "\n",
    "# PDB file that we will use as a starting structure\n",
    "pdb_start = \"assets/cookbook/7pav.pdb\"\n",
    "\n",
    "# PDB file that we will use as the cleaned output structure\n",
    "pdb_out = 'assets/cookbook/cleaned_output.pdb'\n",
    "\n",
    "# Use amber4pdb to clean up records for use with amber forcefield\n",
    "out = subprocess.check_output([\"pdb4amber\", \"--nohyd\",\"--dry\", pdb_start])#\n",
    "with open(pdb_out, 'wb') as f:\n",
    "    f.write(out)  \n",
    "# Use reduce to add hydrogens according to ambers preferences    \n",
    "try:\n",
    "    out = subprocess.check_output([\"reduce\", \"-build\", \"-nuclear\", \"assets/cookbook/cleaned_output.pdb\"], stderr=subprocess.PIPE)\n",
    "except subprocess.CalledProcessError as e:\n",
    "    print(\"Error message from reduce:\", e.stderr.decode())\n",
    "\n",
    "# Use OpenMMs pdbfixer to fix some final issues that can crop up\n",
    "fixed_pdb = PDBFixer(filename=pdb_out)\n",
    "fixed_pdb.findMissingResidues()\n",
    "fixed_pdb.findNonstandardResidues()\n",
    "#fixer.replaceNonstandardResidues()\n",
    "fixed_pdb.removeHeterogens(True) # comment to run with ligand\n",
    "fixed_pdb.findMissingAtoms()\n",
    "fixed_pdb.addMissingAtoms()\n",
    "fixed_pdb.addMissingHydrogens(7.0)\n",
    "PDBFile.writeFile(fixed_pdb.topology, fixed_pdb.positions, open(pdb_out, 'w'))\n"
   ]
  },
  {
   "cell_type": "markdown",
   "id": "6ce5709f-6106-42e3-b5bc-8a5f008a7dcf",
   "metadata": {
    "tags": []
   },
   "source": [
    "# Viewing the prepeared protein\n",
    "\n",
    "The below cell will generate an image of the protein without the ligand present"
   ]
  },
  {
   "cell_type": "code",
   "execution_count": 3,
   "id": "10d471fc-659a-4437-aaf7-a38faaf04b68",
   "metadata": {
    "tags": []
   },
   "outputs": [
    {
     "data": {
      "application/vnd.jupyter.widget-view+json": {
       "model_id": "e6c1c520edb84c2d96221d521c906f01",
       "version_major": 2,
       "version_minor": 0
      },
      "text/plain": []
     },
     "metadata": {},
     "output_type": "display_data"
    },
    {
     "data": {
      "application/vnd.jupyter.widget-view+json": {
       "model_id": "418724ab5b874ab691b5ee96931779bf",
       "version_major": 2,
       "version_minor": 0
      },
      "text/plain": [
       "NGLWidget()"
      ]
     },
     "metadata": {},
     "output_type": "display_data"
    }
   ],
   "source": [
    "import nglview as nv\n",
    "view = nv.show_structure_file(\"assets/cookbook/cleaned_output.pdb\")\n",
    "view"
   ]
  },
  {
   "cell_type": "code",
   "execution_count": 1,
   "id": "c45c5aa5-8044-4894-a7be-4d74e9b41172",
   "metadata": {
    "tags": []
   },
   "outputs": [
    {
     "name": "stdout",
     "output_type": "stream",
     "text": [
      "\n",
      "OpenMM Version: 8.0\n",
      "Git Revision: a7800059645f4471f4b91c21e742fe5aa4513cda\n",
      "\n",
      "There are 3 Platforms available:\n",
      "\n",
      "1 Reference - Successfully computed forces\n",
      "2 CPU - Successfully computed forces\n",
      "3 CUDA - Successfully computed forces\n",
      "\n",
      "Median difference in forces between platforms:\n",
      "\n",
      "Reference vs. CPU: 6.30666e-06\n",
      "Reference vs. CUDA: 6.7397e-06\n",
      "CPU vs. CUDA: 6.97494e-07\n",
      "\n",
      "All differences are within tolerance.\n"
     ]
    }
   ],
   "source": [
    "!python -m openmm.testInstallation\n"
   ]
  },
  {
   "cell_type": "markdown",
   "id": "f97ff97b-34dc-4648-bd09-9fcad5b785c2",
   "metadata": {},
   "source": [
    "## Setting up the forcefield and simualtion for protien dynamics\n",
    "\n",
    "\n",
    "After having prepared a unified set of coordinates, a corresponding topology and a suitable force field to describe the physical interactions between the atoms and molecules, the next step is to define the physical conditions for the molecular dynamics (MD) simulation. In the code snippet provided, these parameters are specified as follows:\n",
    "\n",
    "We have selected the following parameters below for the simulation for speed, you'll likley want to increase the non-bonded terms aand the number of tiemsteps at a minimum.\n",
    "\n",
    "* Integrator : Langevin\n",
    "* Nonbonded cutoff distance : 1 Nanometer\n",
    "* friction coefficient : 0.1 picosecond\n",
    "* Temperature : 300 kelvin\n",
    "* Timestep : 0.004 picoseconds\n",
    "* Number of timesteps : 2000 steps\n",
    "* Total simulation time : 8 picoseconds\n",
    "* Number of stpes between checkpoints : 100 steps\n",
    "* Real world time between steps : 0.4 picoseconds\n",
    "\n",
    "The chosen integrator, LangevinMiddleIntegrator, applies the Langevin dynamics, where a friction term is incorporated to model the interaction with the implicit solvent.\n",
    "\n",
    "The nonbonded cutoff distance is set to 1 nanometer, which indicates the distance beyond which the nonbonded interactions between atoms are ignored. The friction coefficient, specified as 1/picosecond, sets the coupling strength between the system and the heat bath.\n",
    "\n",
    "The simulation temperature is set at 300 Kelvin, and each simulation step is set to last 0.004 picoseconds. The simulation will run for a total of 3000 steps, totaling an approximate real-world time of 12 picoseconds.\n",
    "\n",
    "To monitor the simulation progress and capture the system's evolving state, two reporters are added to the simulation instance:\n",
    "\n",
    "DCDReporter: It records the trajectory, i.e., the atomic positions at each time point, into a DCD/XTC file. In this instance, the trajectory is saved every 10 steps.\n",
    "StateDataReporter: It prints out the simulation step number, potential energy, and temperature every 100 steps to the standard output (your console).\n",
    "The simulation is then set in motion with the simulation.step(3000) command. Depending on the complexity of the molecular system and the computational resources available, the simulation may take some time to complete.\n",
    "\n",
    "For exploratory purposes and speed, the parameters chosen here are somewhat minimal. In a more rigorous study, one might want to consider a longer simulation time, a smaller timestep, and more frequent output for detailed analysis.\n",
    "\n",
    "Note: While the DCD format is widely used to store molecular dynamics trajectories, the XTC format, native to the GROMACS simulation package, offers a significant advantage in terms of file size. XTC files typically have a smaller footprint than their DCD counterparts due to the more efficient compression scheme employed in the XTC format. This makes XTC files particularly well-suited for storing long trajectories that can span large timescales, helping to manage disk space usage more efficiently."
   ]
  },
  {
   "cell_type": "code",
   "execution_count": 3,
   "id": "0e9bce32-2cbf-4674-a70f-55c12160c06e",
   "metadata": {
    "tags": []
   },
   "outputs": [
    {
     "name": "stdout",
     "output_type": "stream",
     "text": [
      "#\"Step\",\"Potential Energy (kJ/mole)\",\"Temperature (K)\"\n",
      "100,-66195.91466961296,103.43620645819622\n",
      "200,-58351.3835313319,171.4416356236536\n",
      "300,-53507.00704744891,216.58331634592045\n",
      "400,-50695.20875445424,246.48338548072894\n",
      "500,-48219.45319869359,262.2715299365983\n",
      "600,-47485.49734134712,278.0932186436287\n",
      "700,-46570.62959330164,287.09594307364256\n",
      "800,-46135.34883567411,295.9231184810379\n",
      "900,-46016.1057402907,297.4766041447673\n",
      "1000,-45686.53074091987,297.05753747597356\n",
      "1100,-45824.16347793475,302.19764166825377\n",
      "1200,-45949.522423677816,303.07563916235375\n",
      "1300,-45811.015381954974,302.1533137376454\n",
      "1400,-45964.567375071216,305.4288919104988\n",
      "1500,-45915.188858292735,304.35700566673665\n",
      "1600,-46409.45471201939,301.2026888360696\n",
      "1700,-46280.75085425019,300.99990721542287\n",
      "1800,-45814.33068081018,300.7316689891411\n",
      "1900,-45966.6910447492,306.7858282673234\n",
      "2000,-46610.80426938769,304.9087845274102\n",
      "2100,-45923.685613718764,303.42564162349703\n",
      "2200,-46285.29044090149,302.40355295231524\n",
      "2300,-46791.91527072062,303.00233669147804\n",
      "2400,-46528.792829960425,299.1513000881415\n",
      "2500,-47235.20039379691,302.57178983552643\n",
      "2600,-46534.39018813852,303.0070304557538\n",
      "2700,-47043.0599316421,299.8578961627826\n",
      "2800,-46916.201272042985,300.4239862290176\n",
      "2900,-47046.606908657806,308.44590571394707\n",
      "3000,-47086.7831891898,302.68657516553344\n"
     ]
    }
   ],
   "source": [
    "from sys import stdout\n",
    "from openmm.app import ForceField\n",
    "from mdtraj.reporters import XTCReporter\n",
    "\n",
    "\n",
    "pdbfile = PDBFile(\"assets/cookbook/cleaned_output.pdb\")\n",
    "modeller = app.Modeller(pdbfile.topology, pdbfile.positions)\n",
    "#forcefield = generate_forcefield(pdbfile)\n",
    "\n",
    "forcefield = ForceField('amber14-all.xml', 'amber14/tip3pfb.xml')\n",
    "\n",
    "\n",
    "# Uncomment the blow line to use GPU accelleration\n",
    "#platform = Platform.getPlatformByName('CUDA')\n",
    "\n",
    "# setting of the chemical system\n",
    "system = forcefield.createSystem(modeller.topology, nonbondedMethod=NoCutoff,\n",
    "        nonbondedCutoff=1*nanometer, constraints=HBonds)\n",
    "\n",
    "# settings for how big the timestep should be\n",
    "integrator = LangevinMiddleIntegrator(300*kelvin, 1/picosecond, 0.004*picoseconds)\n",
    "\n",
    "# Collect everthing together to make a simulation instance\n",
    "simulation = Simulation(modeller.topology, system, integrator)\n",
    "\n",
    "# Set starting ositions\n",
    "simulation.context.setPositions(modeller.positions)\n",
    "simulation.minimizeEnergy()\n",
    "\n",
    "# File location to save output and how ofter to save\n",
    "simulation.reporters.append(DCDReporter('assets/cookbook/first_output.dcd', 10))\n",
    "simulation.reporters.append(XTCReporter('assets/cookbook/first_output.xtc', 10))\n",
    "\n",
    "\n",
    "# Report the physical properties\n",
    "simulation.reporters.append(StateDataReporter(stdout, 100, step=True,\n",
    "        potentialEnergy=True, temperature=True))\n",
    "\n",
    "# Number of steps to run\n",
    "simulation.step(3000)"
   ]
  },
  {
   "cell_type": "markdown",
   "id": "038723f5-92a1-4d6c-9c66-5b296664c566",
   "metadata": {},
   "source": [
    "# Visualising the output\n",
    "\n",
    "As you can see, every 100 steps a report is produced detailing the state of the system. This reporting frequency is determined by our settings for the StateDataReporter class. Increasing the frequency of reporting can result in more granular time resolution for subsequent analysis. However, this comes with a trade-off as it also slows the simulation due to increased file I/O operations and results in larger trajectory files. This is independant of the trajectory reporter which is set to eevry 25 frames (the DCD/XTC output).\n",
    "\n",
    "In the context of Nanome, it may be beneficial to inspect the simulation every 100 timesteps under the conditions we've used here. The playback speed can then be adjusted as needed in VR. The user experience becomes a factor to consider, particularly in terms of how much the atoms move and the timestep interval.\n",
    "\n",
    "It's also important to note that the number of steps loaded in VR significantly impacts the load time. Therefore, using PCVR is recommended when loading molecular dynamics data for an optimal user experience.\n",
    "\n",
    "The output data is presented in the following format: Step number, Potential Energy (kJ/mol), Temperature (K).\n",
    "\n",
    "The system takes roughly 3000 steps to reach the target temperature. Beyond this point, the thermostat continues to interact with the system, normalizing its energy to maintain the target temperature."
   ]
  },
  {
   "cell_type": "code",
   "execution_count": 4,
   "id": "85fb8b08-97f9-4ac7-910f-dc280cac072e",
   "metadata": {
    "tags": []
   },
   "outputs": [
    {
     "name": "stdout",
     "output_type": "stream",
     "text": [
      "Trajectory has 300 frames\n"
     ]
    },
    {
     "data": {
      "application/vnd.jupyter.widget-view+json": {
       "model_id": "84b837677fd74e8bafb78f5c3fb34cd9",
       "version_major": 2,
       "version_minor": 0
      },
      "text/plain": [
       "NGLWidget(max_frame=299)"
      ]
     },
     "metadata": {},
     "output_type": "display_data"
    }
   ],
   "source": [
    "traj = nv.SimpletrajTrajectory(\"assets/cookbook/first_output.dcd\", \"assets/cookbook/cleaned_output.pdb\")\n",
    "print(f\"Trajectory has {traj.n_frames} frames\")\n",
    "viewtraj = nv.show_simpletraj(traj)\n",
    "viewtraj.add_unitcell()\n",
    "viewtraj "
   ]
  },
  {
   "cell_type": "markdown",
   "id": "ac2d637d-2615-4c5e-a27a-c2b26a00edff",
   "metadata": {},
   "source": [
    "# Periodic boundry conditions\n",
    "\n",
    "The previous cell illustrates how the simulation coordinate system can intersect with the edge of the periodic boundary conditions of the system. The first frame displays the geometry derived from the initial PDB, but during the dynamics, some parts may cross over the boundary of the simulation box. This is merely a visualization artifact of the periodic system - the underlying simulation remains accurate as the forces are correctly applied across the periodic boundary.\n",
    "\n",
    "Such visual artifacts can sometimes create the impression of a split protein, which may be disorienting or confusing.\n",
    "\n",
    "There are a few methods to correct these visual anomalies. The easiest approach often involves using VMD's tools to modify the periodic boundary conditions with the 'wrap'/'unwrap' command. However, we can also address this issue programmatically within this notebook, as demonstrated in the following section."
   ]
  },
  {
   "cell_type": "code",
   "execution_count": 15,
   "id": "54bb78a2-2ff8-49e3-9327-5da85fd4a441",
   "metadata": {
    "tags": []
   },
   "outputs": [
    {
     "data": {
      "application/vnd.jupyter.widget-view+json": {
       "model_id": "3a42bdd778b448e7a42cd19be8f93a6c",
       "version_major": 2,
       "version_minor": 0
      },
      "text/plain": [
       "NGLWidget(max_frame=299)"
      ]
     },
     "metadata": {},
     "output_type": "display_data"
    }
   ],
   "source": [
    "from MDAnalysis import transformations\n",
    "import MDAnalysis as mda\n",
    "import numpy as np\n",
    "import warnings\n",
    "warnings.filterwarnings('ignore')\n",
    "\n",
    "# A custom atom group can be passed as an argument. In this case we will use all the atoms\n",
    "# in the Universe labeled \"u\"\n",
    "u = mda.Universe(pdbfile.topology, \"assets/cookbook/first_output.dcd\")\n",
    "\n",
    "# Get details of A chain\n",
    "prot = u.select_atoms(\"protein and name CA\")\n",
    "# Get details of B chain\n",
    "protb = u.select_atoms(\"protein and name CB\")\n",
    "\n",
    "# Get the first residue\n",
    "ag = u.residues[1].atoms\n",
    "\n",
    "# Use mass to determine the center of the box\n",
    "workflow = (transformations.unwrap(ag),\n",
    "                   transformations.center_in_box(ag, center='mass'),\n",
    "                   transformations.wrap(prot, compound='fragments'))\n",
    "u.trajectory.add_transformations(*workflow)\n",
    "\n",
    "   \n",
    "view = nv.show_mdanalysis(u)\n",
    "view.add_unitcell()\n",
    "view"
   ]
  },
  {
   "cell_type": "markdown",
   "id": "13682f75-ecff-431e-b80e-9f5c90520f13",
   "metadata": {},
   "source": [
    "# Exporting the new trajectory for Nanome"
   ]
  },
  {
   "cell_type": "code",
   "execution_count": 10,
   "id": "3b389221-d253-44c2-9e65-10663aae970e",
   "metadata": {
    "tags": []
   },
   "outputs": [],
   "source": [
    "from MDAnalysis import  Writer\n",
    "\n",
    "u = mda.Universe(pdbfile.topology, \"assets/cookbook/first_output.dcd\")\n",
    "# Output only the residues taged as protien\n",
    "# protein = u.select_atoms(\"protein\")\n",
    "with Writer(\"assets/cookbook/fist_output.xtc\", u.trajectory) as W:\n",
    "    for ts in u.trajectory:\n",
    "        W.write(u)"
   ]
  },
  {
   "cell_type": "code",
   "execution_count": 16,
   "id": "a3a73a44-8b49-43e1-a01a-fb5745e435a7",
   "metadata": {
    "tags": []
   },
   "outputs": [
    {
     "name": "stdout",
     "output_type": "stream",
     "text": [
      "Trajectory has 300 frames\n"
     ]
    },
    {
     "data": {
      "application/vnd.jupyter.widget-view+json": {
       "model_id": "2403f8239f6044bfb80221b7312a0a9a",
       "version_major": 2,
       "version_minor": 0
      },
      "text/plain": [
       "NGLWidget(max_frame=299)"
      ]
     },
     "metadata": {},
     "output_type": "display_data"
    }
   ],
   "source": [
    "traj = nv.SimpletrajTrajectory(\"assets/cookbook/first_output.xtc\", \"assets/cookbook/cleaned_output.pdb\")\n",
    "print(f\"Trajectory has {traj.n_frames} frames\")\n",
    "viewtraj = nv.show_simpletraj(traj)\n",
    "viewtraj.add_unitcell()\n",
    "viewtraj"
   ]
  },
  {
   "cell_type": "code",
   "execution_count": null,
   "id": "68ac598a-8ab4-488a-b12f-c6a95f07236e",
   "metadata": {},
   "outputs": [],
   "source": []
  }
 ],
 "metadata": {
  "kernelspec": {
   "display_name": "Python 3 (ipykernel)",
   "language": "python",
   "name": "python3"
  },
  "language_info": {
   "codemirror_mode": {
    "name": "ipython",
    "version": 3
   },
   "file_extension": ".py",
   "mimetype": "text/x-python",
   "name": "python",
   "nbconvert_exporter": "python",
   "pygments_lexer": "ipython3",
   "version": "3.10.13"
  }
 },
 "nbformat": 4,
 "nbformat_minor": 5
}
