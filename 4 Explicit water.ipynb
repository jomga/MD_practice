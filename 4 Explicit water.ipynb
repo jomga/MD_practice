{
 "cells": [
  {
   "cell_type": "markdown",
   "id": "5e538293-bdeb-4502-b503-b0b390ec1739",
   "metadata": {},
   "source": [
    "## Solvating protein systems\n",
    "Solvating a protein is not as simple as placing water molecules randomly around the protein. The water model used can significantly impact the accuracy and computational cost of the simulation. The TIP3P model is one of the most commonly used water models in molecular dynamics simulations. It's a simple and computationally efficient model, where each water molecule is represented as a rigid structure with three interaction sites: two positive hydrogen atoms and one negative oxygen atom. In OpenMM, you can solvate a protein with TIP3P water molecules using the Modeller.addSolvent() function.\n",
    "\n",
    "However, the TIP3P model has its limitations. It is a rigid model, meaning that it does not account for the flexibility of the water molecules. This can lead to inaccuracies in the simulation, particularly when modeling specific types of interactions, such as hydrogen bonding. Moreover, TIP3P does not include polarization effects, which can be important in certain biological systems.\n",
    "\n",
    "An alternative to explicit solvation (like with TIP3P) is implicit solvation, where the solvent is not represented by individual molecules, but rather by a continuous medium. This is implemented in OpenMM through Generalized Born (GB) models. Implicit solvation drastically reduces the number of particles in the system, leading to significantly faster simulations. It's particularly useful for simulations where solvent-solute interactions are important, but the fine details of the solvent structure are not.\n",
    "\n",
    "However, implicit solvation also has its drawbacks. It is less accurate than explicit solvation for modeling the structure and dynamics of the solvation shell around the protein. It also fails to capture certain phenomena, such as the formation of solvent voids or cavities, and it cannot be used to simulate processes that involve explicit water molecules, such as the diffusion of small molecules through water.\n",
    "\n",
    "TIP3P is a computationally efficient model that can provide a good approximation of water for many systems, but it has its limitations. Implicit solvation can speed up your simulations and may be a good choice for certain types of systems, but it lacks the accuracy of explicit solvation for modeling detailed solvent structure and dynamics.\n",
    "\n",
    "## When explicit solvation is useful\n",
    "\n",
    "Explicit solvent models are particularly important in a number of contexts where the specific arrangement or behavior of water molecules plays a critical role in the biological system being studied. Here are a few examples:\n",
    "\n",
    "**Protein folding and stability:** Protein folding is driven by a delicate balance of various forces, including hydrophobic collapse, hydrogen bonding, and electrostatic interactions. Water plays a vital role in all of these, and its explicit representation allows for an accurate simulation of the folding process and stability.\n",
    "\n",
    "**Enzyme catalysis:** Water often plays a direct role in the mechanisms of enzymatic reactions, for example, as a reactant, a product, or through mediating proton transfers. In these cases, an explicit water model is necessary to accurately simulate the catalytic process.\n",
    "\n",
    "**Protein-ligand interactions:** In drug design, the binding of a small molecule ligand to a protein can be significantly influenced by water. Water molecules can mediate protein-ligand interactions, and displacement of water from the binding site can contribute to the binding energy. Explicit water models can capture these effects.\n",
    "\n",
    "**Protonation state effects:** The protonation state of a protein, which can be influenced by the surrounding water environment, can dramatically affect its structure and function. Explicit solvent simulations can help to capture these effects.\n",
    "\n",
    "**Membrane proteins:** The interaction of membrane proteins with the lipid bilayer and the surrounding aqueous environment is critical for their function. Explicit water is necessary to correctly model these interactions.eractions.ynamics."
   ]
  },
  {
   "cell_type": "markdown",
   "id": "9b9f26e4-f7be-43ca-ba53-3e7d989f6906",
   "metadata": {
    "tags": []
   },
   "source": [
    "## Finding the ligand\n",
    "\n",
    "PDB have two main record types atoms and hetatoms. Any ligand should be a hetatom if a pdb has been set up correctly.\n",
    "\n",
    "There are two main approaches to find the ligand ID, \n",
    "\n",
    "1) We could open the pdb and examine it.\n",
    "2) We can try and extract it from the PDB automatically with the bellow script.\n"
   ]
  },
  {
   "cell_type": "code",
   "execution_count": 7,
   "id": "67c8afcd-aefb-4b1d-8782-8c9d0eb75e5e",
   "metadata": {
    "editable": true,
    "slideshow": {
     "slide_type": ""
    },
    "tags": []
   },
   "outputs": [
    {
     "name": "stdout",
     "output_type": "stream",
     "text": [
      "ligand found:  ['FX5']\n"
     ]
    },
    {
     "name": "stderr",
     "output_type": "stream",
     "text": [
      "/opt/conda/lib/python3.10/site-packages/Bio/PDB/StructureBuilder.py:89: PDBConstructionWarning: WARNING: Chain A is discontinuous at line 8021.\n",
      "  warnings.warn(\n",
      "/opt/conda/lib/python3.10/site-packages/Bio/PDB/StructureBuilder.py:89: PDBConstructionWarning: WARNING: Chain B is discontinuous at line 8098.\n",
      "  warnings.warn(\n",
      "/opt/conda/lib/python3.10/site-packages/Bio/PDB/StructureBuilder.py:89: PDBConstructionWarning: WARNING: Chain A is discontinuous at line 8175.\n",
      "  warnings.warn(\n",
      "/opt/conda/lib/python3.10/site-packages/Bio/PDB/StructureBuilder.py:89: PDBConstructionWarning: WARNING: Chain B is discontinuous at line 8347.\n",
      "  warnings.warn(\n"
     ]
    }
   ],
   "source": [
    "from Bio.PDB import PDBParser\n",
    "\n",
    "input_pdb_file = \"assets/cookbook/pdbs_not_for_repo/6HAZ.pdb\"  # Replace with the name of your PDB file\n",
    "\n",
    "# Parse the PDB file and create a new structure\n",
    "parser = PDBParser()\n",
    "structure = parser.get_structure(\"protein\", input_pdb_file)\n",
    "\n",
    "ligand_residues = set()\n",
    "\n",
    "for model in structure:\n",
    "    for chain in model:\n",
    "        for residue in chain:\n",
    "            residue_id = residue.get_id()\n",
    "            residue_name = residue.get_resname()\n",
    "            if residue_id[0].startswith(\"H_\"):  # Check if the residue is a hetero-residue\n",
    "                if residue_name in [\"ZN\", \"NA\", \"CL\"]:\n",
    "                    continue  # Skip ions\n",
    "                ligand_residues.add(residue_name)\n",
    "\n",
    "# if len(ligand_residues) == 1:  \n",
    "ligand = list(ligand_residues) #[0]\n",
    "print(\"ligand found: \", ligand)\n",
    "ligand_residue_names = ligand\n"
   ]
  },
  {
   "cell_type": "code",
   "execution_count": 40,
   "id": "142d304b-4a8d-449d-a81c-169480703238",
   "metadata": {
    "tags": []
   },
   "outputs": [
    {
     "data": {
      "application/vnd.jupyter.widget-view+json": {
       "model_id": "037bbdcb3df248df8acbf928868176d1",
       "version_major": 2,
       "version_minor": 0
      },
      "text/plain": [
       "Dropdown(description='PDB File:', options=('6HAZ.pdb', '6HAZ_A_chain_ligand_waters.pdb', 'modified_6HAZ.pdb'),…"
      ]
     },
     "metadata": {},
     "output_type": "display_data"
    },
    {
     "data": {
      "application/vnd.jupyter.widget-view+json": {
       "model_id": "c49394a46954492c9681e6442bcb58ee",
       "version_major": 2,
       "version_minor": 0
      },
      "text/plain": [
       "Text(value='', description='Chains to Remove:', placeholder='A,B,C')"
      ]
     },
     "metadata": {},
     "output_type": "display_data"
    },
    {
     "data": {
      "application/vnd.jupyter.widget-view+json": {
       "model_id": "4dc683784b9f4cf8b7225260549cbd67",
       "version_major": 2,
       "version_minor": 0
      },
      "text/plain": [
       "Button(description='Modify PDB', style=ButtonStyle())"
      ]
     },
     "metadata": {},
     "output_type": "display_data"
    },
    {
     "data": {
      "application/vnd.jupyter.widget-view+json": {
       "model_id": "fc09a1885a6848a2b51fb8af78aa5c45",
       "version_major": 2,
       "version_minor": 0
      },
      "text/plain": [
       "Output()"
      ]
     },
     "metadata": {},
     "output_type": "display_data"
    },
    {
     "name": "stdout",
     "output_type": "stream",
     "text": [
      "assets/cookbook/pdbs_not_for_repo/modified_6HAZ.pdb\n"
     ]
    }
   ],
   "source": [
    "from Bio.PDB import *\n",
    "import os\n",
    "\n",
    "# Path to the folder where the modified PDBs will be saved\n",
    "pdb_folder = 'assets/cookbook/pdbs_not_for_repo'  # Adjust as needed\n",
    "\n",
    "# Function to remove selected chains and save new PDB\n",
    "def remove_chains_and_save(pdb_file, chains_to_remove):\n",
    "    global input_pdb_file\n",
    "\n",
    "    # Convert input chain IDs to uppercase\n",
    "    chains_to_remove = [chain.upper() for chain in chains_to_remove]\n",
    "\n",
    "    parser = PDBParser()\n",
    "    structure = parser.get_structure(\"structure\", pdb_file)\n",
    "\n",
    "    # Gather existing chain IDs in the structure\n",
    "    existing_chain_ids = {chain.id for model in structure for chain in model.get_chains()}\n",
    "\n",
    "    # Check if the chains to remove are in the existing chain IDs\n",
    "    if not set(chains_to_remove).issubset(existing_chain_ids):\n",
    "        print(\"Warning: One or more input chain IDs do not match existing chain IDs in the structure.\")\n",
    "        return\n",
    "\n",
    "    for model in structure:\n",
    "        for chain in list(model.get_chains()):\n",
    "            if chain.id in chains_to_remove:\n",
    "                model.detach_child(chain.id)\n",
    "\n",
    "    io = PDBIO()\n",
    "    io.set_structure(structure)\n",
    "    new_pdb_file = os.path.join(pdb_folder, f\"modified_{os.path.basename(pdb_file)}\")\n",
    "    io.save(new_pdb_file)\n",
    "    input_pdb_file = new_pdb_file\n",
    "    print(f\"Modified PDB saved as {new_pdb_file}\")\n",
    "\n",
    "# UI components for selecting PDB file and chains\n",
    "pdb_files = [f for f in os.listdir(pdb_folder) if f.endswith('.pdb')]\n",
    "\n",
    "pdb_dropdown = widgets.Dropdown(options=pdb_files, description='PDB File:')\n",
    "chains_input = widgets.Text(description='Chains to Remove:', placeholder='A,B,C')\n",
    "\n",
    "def on_modify_button_clicked(b):\n",
    "    with modification_output:\n",
    "        modification_output.clear_output()\n",
    "        pdb_file = os.path.join(pdb_folder, pdb_dropdown.value)\n",
    "        chains_to_remove = chains_input.value.split(',')\n",
    "        remove_chains_and_save(pdb_file, chains_to_remove)\n",
    "         \n",
    "\n",
    "modify_button = widgets.Button(description=\"Modify PDB\")\n",
    "modify_button.on_click(on_modify_button_clicked)\n",
    "\n",
    "modification_output = widgets.Output()\n",
    "\n",
    "display(pdb_dropdown, chains_input, modify_button, modification_output)\n",
    "print(input_pdb_file)"
   ]
  },
  {
   "cell_type": "code",
   "execution_count": 134,
   "id": "b915c5d3-6e50-41a8-b468-c829e7c4577b",
   "metadata": {
    "tags": []
   },
   "outputs": [
    {
     "data": {
      "application/vnd.jupyter.widget-view+json": {
       "model_id": "27d022aae52e425485a00c1503912e7b",
       "version_major": 2,
       "version_minor": 0
      },
      "text/plain": [
       "NGLWidget()"
      ]
     },
     "metadata": {},
     "output_type": "display_data"
    }
   ],
   "source": [
    "import nglview as nv\n",
    "view = nv.show_structure_file(\"assets/cookbook/pdbs_not_for_repo/modified_6HAZ.pdb\")\n",
    "#view.add_ball_and_stick(\"protien\") \n",
    "view"
   ]
  },
  {
   "cell_type": "markdown",
   "id": "6d3fa0b5-0e29-46cd-8eda-6ca48e2e2e34",
   "metadata": {
    "editable": true,
    "slideshow": {
     "slide_type": ""
    },
    "tags": []
   },
   "source": [
    "### Extracting the ligands\n",
    "\n",
    "The next cell code extracts ligands from a protein structure and saves them as separate files. It does this by reading a PDB file, which is a common file format for protein structures.\n",
    "\n",
    "1) The code defines the folder where the ligand files will be saved, called \"assets/cookbook/Ligands\".\n",
    "\n",
    "2) The code uses a function called extract_ligand_residues to identify the ligand residues in the protein structure. These residues are the small molecules that the code is interested in.\n",
    "\n",
    "3) The code creates a new folder for the ligand files and saves each ligand residue as a separate file in this folder. The ligand files are saved in two different formats, PDB and SDF, which are commonly used formats for small molecules.\n",
    "\n",
    "4) The code uses a module called RDKit to convert the PDB files to SDF format. This is done so that the ligand files can be used in other software programs that require the SDF format.\n",
    "\n"
   ]
  },
  {
   "cell_type": "code",
   "execution_count": 35,
   "id": "53fa84bf-d657-4b9e-bf2e-e34d50e7e8be",
   "metadata": {
    "tags": []
   },
   "outputs": [
    {
     "name": "stdout",
     "output_type": "stream",
     "text": [
      "using the file assets/cookbook/pdbs_not_for_repo/modified_6HAZ.pdb as the starting structure\n",
      "Writing ligand file assets/cookbook/Ligands/FX5_1_ligand.pdb\n",
      "Writing ligand file assets/cookbook/Ligands/FX5_1_ligand.sdf\n"
     ]
    }
   ],
   "source": [
    "import os\n",
    "import shutil\n",
    "from Bio.PDB import PDBParser, PDBIO, Select\n",
    "from rdkit import Chem\n",
    "\n",
    "# Set the input and output file names\n",
    "ligands_subfolder = \"assets/cookbook/Ligands\"\n",
    "\n",
    "print(\"using the file\", input_pdb_file, \"as the starting structure\")\n",
    "\n",
    "# Function to extract ligand residues\n",
    "def extract_ligand_residues(chain, residue_names):\n",
    "    return [residue for residue in chain if residue.get_resname() in residue_names]\n",
    "\n",
    "# Clean up the ligands subfolder and create it again\n",
    "if os.path.exists(ligands_subfolder):\n",
    "    shutil.rmtree(ligands_subfolder)\n",
    "os.makedirs(ligands_subfolder)\n",
    "\n",
    "# Parse the PDB file and create a new structure\n",
    "parser = PDBParser()\n",
    "structure = parser.get_structure(\"protein\", input_pdb_file)\n",
    "\n",
    "# Iterate over chains and extract ligand residues using the function\n",
    "ligand_residues = []\n",
    "for chain in structure.get_chains():\n",
    "    ligand_residues.extend(extract_ligand_residues(chain, ligand_residue_names))\n",
    "\n",
    "#print(ligand_residues)\n",
    "#for residue in ligand_residues: \n",
    "#    print(residue, residue.get_resname())\n",
    "\n",
    "# Save each ligand residue to a separate PDB/SDF file\n",
    "ligand_counts = {}\n",
    "ligand_residue_names_split=[]\n",
    "\n",
    "io = PDBIO()\n",
    "for residue in ligand_residues:\n",
    "    residue_name = residue.get_resname()\n",
    "\n",
    "    # If the ligand has already been processed before, increase its count, otherwise set its count to 1\n",
    "    ligand_counts[residue_name] = ligand_counts.get(residue_name, 0) + 1\n",
    "    unique_identifier = ligand_counts[residue_name]\n",
    "\n",
    "    # Modify the output filenames to include the unique identifier\n",
    "    output_ligand_pdb_file = os.path.join(ligands_subfolder, f\"{residue_name}_{unique_identifier}_ligand.pdb\")\n",
    "    output_ligand_sdf_file = os.path.join(ligands_subfolder, f\"{residue_name}_{unique_identifier}_ligand.sdf\")\n",
    "\n",
    "\n",
    "    io.set_structure(residue)\n",
    "    io.save(output_ligand_pdb_file)\n",
    "    \n",
    "    # Convert the PDB file to SDF\n",
    "    with open(output_ligand_pdb_file, \"r\") as f:\n",
    "        pdb_block = f.read()\n",
    "\n",
    "    mol = Chem.MolFromPDBBlock(pdb_block)\n",
    "    Chem.MolToMolFile(mol, output_ligand_sdf_file)\n",
    "    print(\"Writing ligand file\", output_ligand_pdb_file)\n",
    "    print(\"Writing ligand file\", output_ligand_sdf_file)\n",
    "    ligand_residue_names_split.append(f\"{residue_name}_{unique_identifier}\")"
   ]
  },
  {
   "cell_type": "markdown",
   "id": "55bf79e6-42ca-4928-8b28-3c63c6e0244d",
   "metadata": {
    "tags": []
   },
   "source": [
    "## Visualising the ligand\n",
    "\n",
    "The cell bellow lets you steps through all the possible ligands found in the origonal PDB and visualise them both using RDKIT and ngview. Select an entry from the dropdown and you'll be able to visualise it. \n",
    "\n",
    "The bellow code will auto add hydrogens, but take note that its usually a bad guess"
   ]
  },
  {
   "cell_type": "code",
   "execution_count": 36,
   "id": "accda723-9815-4602-aac3-e1b28402d59d",
   "metadata": {
    "tags": []
   },
   "outputs": [
    {
     "data": {
      "application/vnd.jupyter.widget-view+json": {
       "model_id": "6d3b8a10596f4d2facc728b33d638aba",
       "version_major": 2,
       "version_minor": 0
      },
      "text/plain": [
       "Dropdown(description='Ligand:', options=('FX5_1_ligand.sdf',), value='FX5_1_ligand.sdf')"
      ]
     },
     "metadata": {},
     "output_type": "display_data"
    },
    {
     "data": {
      "application/vnd.jupyter.widget-view+json": {
       "model_id": "2aaeaeb08645409fba37ffe96940d2aa",
       "version_major": 2,
       "version_minor": 0
      },
      "text/plain": [
       "Output()"
      ]
     },
     "metadata": {},
     "output_type": "display_data"
    }
   ],
   "source": [
    "import os\n",
    "from rdkit import Chem\n",
    "from rdkit.Chem.Draw import IPythonConsole\n",
    "from rdkit.Chem import Draw, AllChem \n",
    "from openff.toolkit.topology import Molecule\n",
    "import nglview as nv\n",
    "import ipywidgets as widgets\n",
    "from IPython.display import display\n",
    "\n",
    "def visualize_ligand(ligand_file):\n",
    "    rdkitmol = Chem.MolFromMolFile(ligand_file)\n",
    "    # Add hydrogens only if the number of atoms is greater than 1\n",
    "    if rdkitmol.GetNumAtoms() > 1:\n",
    "        rdkitmol = Chem.AddHs(rdkitmol, addCoords=True)\n",
    "    rdkitmol.UpdatePropertyCache(strict=False)\n",
    "\n",
    "    # Assign stereochemistry\n",
    "    Chem.AssignAtomChiralTagsFromStructure(rdkitmol)\n",
    "    Chem.AssignStereochemistry(rdkitmol, force=True, cleanIt=True)\n",
    "    Chem.AssignStereochemistryFrom3D(rdkitmol, replaceExistingTags=True)\n",
    "\n",
    "    ligand = Molecule(rdkitmol, allow_undefined_stereo=True)\n",
    "\n",
    "    # Draw shallow copy of 2d molecule for inspection \n",
    "    for mol in [rdkitmol.__copy__()]:\n",
    "        AllChem.Compute2DCoords(mol)\n",
    "        img = Chem.Draw.MolToImage(mol)  \n",
    "\n",
    "    # Create NGLview visualization\n",
    "    view = nv.NGLWidget()\n",
    "    view.add_component(rdkitmol)\n",
    "    view.representations = [{\"type\": \"ball+stick\", \"params\": {\"multipleBond\": \"offset\"}}]\n",
    "\n",
    "    # Display RDKit image and NGLview side by side\n",
    "    hbox = widgets.HBox([widgets.Image(value=img._repr_png_()), view])\n",
    "    return hbox\n",
    "\n",
    "def on_ligand_selected(change):\n",
    "    selected_file = os.path.join('assets/cookbook/Ligands', change['new'])\n",
    "    with visualization_output:\n",
    "        visualization_output.clear_output()\n",
    "        display(visualize_ligand(selected_file))\n",
    "\n",
    "\n",
    "ligands_folder = 'assets/cookbook/Ligands'\n",
    "ligand_files = [f for f in os.listdir(ligands_folder) if f.endswith('.sdf')]\n",
    "\n",
    "dropdown = widgets.Dropdown(options=ligand_files,description='Ligand:',value=ligand_files[0])\n",
    "\n",
    "\n",
    "dropdown.observe(on_ligand_selected, names='value')\n",
    "visualization_output = widgets.Output()\n",
    "display(dropdown)\n",
    "display(visualization_output)\n",
    "\n",
    "# Show default ligand view if there is only one ligand\n",
    "if ligand_files[0] is not None:\n",
    "    dropdown.value = ligand_files[0]\n",
    "    on_ligand_selected({'new': ligand_files[0]})"
   ]
  },
  {
   "cell_type": "markdown",
   "id": "b06ed910-4503-4e49-b747-2abc7b03c8df",
   "metadata": {},
   "source": [
    "# OPTIONAL: Using Antechamber to assign better hyrodgenation of a Ligand\n",
    "\n",
    "You might notice a red box about complaining about the chirality of centres around the ligand. Or that the number of hydrogens added is wrong for the ligand. Lets use antechamber to fix this.\n",
    "\n",
    "Antechamber is a part of the AmberTools suite, specifically designed to prepare ligands for molecular simulations using Amber force fields. In this tutorial, we will discuss how to use Antechamber to assign a topology to a ligand by generating a mol2 file with AM1-BCC charges and GAFF atom types."
   ]
  },
  {
   "cell_type": "code",
   "execution_count": 115,
   "id": "763f2298-ec7e-4511-bcc1-0e550dfcb533",
   "metadata": {
    "tags": []
   },
   "outputs": [
    {
     "name": "stdout",
     "output_type": "stream",
     "text": [
      "['FX5_1_ligand.pdb']\n"
     ]
    },
    {
     "name": "stderr",
     "output_type": "stream",
     "text": [
      "Processing file: \"assets/cookbook/Ligands/FX5_1_ligand.pdb\"\n",
      "Building His ring NH Hydrogens.\n",
      "Building or keeping OH & SH Hydrogens.\n",
      "Rotating existing OH & SH Hydrogens\n",
      "VDW dot density = 16/A^2\n",
      "Probe radius = 0.25A\n",
      "Orientation penalty scale = 1 (100%)\n",
      "Eliminate contacts within 3 bonds.\n",
      "Ignore atoms with |occupancy| <= 0.01 during adjustments.\n",
      "Waters ignored if B-Factor >= 40 or |occupancy| < 0.66\n",
      "Aromatic rings in amino acids accept hydrogen bonds.\n",
      "Flipping Asn, Gln and His groups.\n",
      "For each flip state, bumps where gap is more than 0.4A are indicated with '!'.\n",
      "Rotating NH3 Hydrogens.\n",
      "Not processing Met methyls.\n",
      " Singles(size 1): B1501 FX5 O13 \n",
      " orientation 3: B1501 FX5 O13 :   rot   19: bump=0.000, HB=0.000, total=0.062\n",
      "Found 18 hydrogens (18 hets)\n",
      "Standardized 18 hydrogens (18 hets)\n",
      "Added 0 hydrogens (0 hets)\n",
      "Adjusted 1 group(s)\n",
      "If you publish work which uses reduce, please cite:\n",
      "Word, et. al. (1999) J. Mol. Biol. 285, 1735-1747.\n",
      "For more information see http://kinemage.biochem.duke.edu\n"
     ]
    }
   ],
   "source": [
    "import subprocess\n",
    "#from openbabel import pybel\n",
    "import os\n",
    "\n",
    "\n",
    "ligands_folder = 'assets/cookbook/Ligands'\n",
    "ligand_files = [f for f in os.listdir(ligands_folder) if f.endswith('.pdb') and not f.endswith('_h.pdb')]\n",
    "print(ligand_files)\n",
    "\n",
    "for file in ligand_files: \n",
    "    # Get the input file's base name without the extension\n",
    "    file_base_name, _ = os.path.splitext(file)\n",
    "\n",
    "    # Add hydrogens to the input PDB file using the 'reduce' program\n",
    "    output_pdb_with_h = os.path.join(ligands_folder, f\"{file_base_name}_with_h.pdb\")\n",
    "    with open(output_pdb_with_h, \"w\") as outfile:\n",
    "        subprocess.run([\"reduce\", \"-BUILD\", os.path.join(ligands_folder, file)], check=True, text=True, stdout=outfile)\n"
   ]
  },
  {
   "cell_type": "code",
   "execution_count": 33,
   "id": "082d700b-ef8e-4f4c-8321-866b1886d648",
   "metadata": {
    "jupyter": {
     "source_hidden": true
    },
    "tags": []
   },
   "outputs": [],
   "source": [
    "# import os\n",
    "# from simtk.openmm import Vec3\n",
    "# from simtk.openmm.app import Modeller, ForceField, PDBFile\n",
    "# from openmmforcefields.generators import GAFFTemplateGenerator\n",
    "# from openff.toolkit.topology import Molecule, Topology\n",
    "# from simtk import unit\n",
    "\n",
    "# ligands_folder = 'assets/cookbook/Ligands'\n",
    "# ligand_files = [f for f in os.listdir(ligands_folder) if f.endswith('.sdf')]\n",
    "\n",
    "# for file in ligand_files:\n",
    "#     file_base_name, _ = os.path.splitext(file)\n",
    "#     input_file_path = os.path.join(ligands_folder, file)\n",
    "\n",
    "#     # Create OpenFF Molecule from SDF\n",
    "#     openff_mol = Molecule.from_file(input_file_path, allow_undefined_stereo=True)\n",
    "\n",
    "#     # Convert OpenFF Molecule to OpenFF Topology\n",
    "#     openff_topology = Topology.from_molecules([openff_mol])\n",
    "\n",
    "#     # Convert OpenFF Topology to OpenMM Topology\n",
    "#     openmm_topology = openff_topology.to_openmm()\n",
    "\n",
    "#     # Get the OpenFF Molecule conformer positions and convert to OpenMM Vec3 with proper units\n",
    "#     openmm_positions = [Vec3(*pos) for pos in openff_mol.conformers[0].value_in_unit(unit.nanometer)]\n",
    "\n",
    "#     # Multiply by unit.nanometer to convert to OpenMM Quantity\n",
    "#     openmm_positions = [pos * unit.nanometer for pos in openmm_positions]\n",
    "\n",
    "#     modeller = Modeller(openmm_topology, openmm_positions)\n",
    "\n",
    "#     # Create a GAFFTemplateGenerator instance\n",
    "#     gaff_generator = GAFFTemplateGenerator(molecules=[openff_mol])\n",
    "\n",
    "#     forcefield = ForceField()\n",
    "#     forcefield.registerTemplateGenerator(gaff_generator.generator)\n",
    "\n",
    "#     modeller.addHydrogens(forcefield)\n",
    "\n",
    "#     output_pdb_with_h = os.path.join(ligands_folder, f\"{file_base_name}_with_h.pdb\")\n",
    "#     with open(output_pdb_with_h, 'w') as outfile:\n",
    "#         PDBFile.writeFile(modeller.topology, modeller.positions, outfile)\n"
   ]
  },
  {
   "cell_type": "markdown",
   "id": "9b3a9a8b-fc3d-454c-8617-66afb84e01fb",
   "metadata": {
    "tags": []
   },
   "source": [
    "## Reprocess the ligand with openbabel into an sdf file\n",
    "\n",
    "we can use openbabel to reprocess the rdkit generated connectivity and potnetially fix topology issues for when chiral mallassignement arrises. In this case we are using it to put it into a sdf file format"
   ]
  },
  {
   "cell_type": "code",
   "execution_count": 118,
   "id": "203dac3a-1727-48f2-bdb2-dd9a97a6765f",
   "metadata": {
    "tags": []
   },
   "outputs": [
    {
     "name": "stdout",
     "output_type": "stream",
     "text": [
      "FX5_1_ligand_with_h.pdb\n"
     ]
    }
   ],
   "source": [
    "from openbabel import pybel\n",
    "from rdkit import Chem\n",
    "import nglview\n",
    "\n",
    "\n",
    "ligands_folder = 'assets/cookbook/Ligands'\n",
    "ligand_files = [f for f in os.listdir(ligands_folder) if f.endswith('_h.pdb')]\n",
    "\n",
    "for input_file in ligand_files :\n",
    "    print(input_file)\n",
    "    file_base_name, _ = os.path.splitext(file)\n",
    "    mol = next(pybel.readfile(\"pdb\", ligands_folder+\"/\"+input_file))\n",
    "    #mol.addh()\n",
    "    mol.write(\"sdf\", ligands_folder+\"/\"+file_base_name+\"with_h.sdf\", overwrite=True)\n",
    "    \n"
   ]
  },
  {
   "cell_type": "markdown",
   "id": "f308c15d-9d53-4561-8411-43e6f9b99af7",
   "metadata": {
    "tags": []
   },
   "source": [
    "## Experimental reprocessing from pdb to sdf\n",
    "\n",
    "This code block performs the conversion of ligand structures from PDB to SDF format, and subsequently processes these structures for chemical analysis. Initially, Open Babel (pybel) is utilized to accurately convert PDB files into SDF files, ensuring correct inference and retention of aromaticity, a crucial aspect often lost in straightforward conversions. Following this, RDKit is employed to read the generated SDF files. Within this RDKit processing step, specific attention is given to nitrogen atoms with four bonds, which are adjusted to reflect a quaternary ammonium ion's positive charge state. After this adjustment, RDKit's sanitization process is applied to each molecule to perceive aromaticity and establish other molecular properties accurately. Finally, the processed molecular structures are written back into SDF format, making them suitable for further computational chemistry analyses or molecular modeling tasks."
   ]
  },
  {
   "cell_type": "code",
   "execution_count": 139,
   "id": "2bc61d55-4c9e-442e-94fe-82a640cb1c6b",
   "metadata": {
    "tags": []
   },
   "outputs": [
    {
     "name": "stdout",
     "output_type": "stream",
     "text": [
      "Warning: found possible quaternary ammonium ion at Atom Index: 18, Atom Type: N, Connected Atoms: C, H, C, H\n"
     ]
    }
   ],
   "source": [
    "from openbabel import pybel\n",
    "from rdkit import Chem\n",
    "import os\n",
    "\n",
    "ligands_folder = 'assets/cookbook/Ligands'\n",
    "ligand_files = [f for f in os.listdir(ligands_folder) if f.endswith('_h.pdb')]\n",
    "\n",
    "for input_file in ligand_files:\n",
    "    file_base_name, _ = os.path.splitext(input_file)\n",
    "\n",
    "    # Convert PDB files to SDF using Open Babel\n",
    "    mol = next(pybel.readfile(\"pdb\", os.path.join(ligands_folder, input_file)))\n",
    "    sdf_output_file = os.path.join(ligands_folder, file_base_name + \"_with_h.sdf\")\n",
    "    mol.write(\"sdf\", sdf_output_file, overwrite=True)\n",
    "\n",
    "    # Read the SDF file with RDKit for further processing\n",
    "    rdkit_mol = Chem.SDMolSupplier(sdf_output_file, removeHs=False, sanitize=False)[0]\n",
    "    if rdkit_mol is None:\n",
    "        print(f\"Could not load {sdf_output_file} with RDKit.\")\n",
    "        continue\n",
    "\n",
    "    # Adjust the nitrogen atom's charge state if necessary and warn\n",
    "    for atom in rdkit_mol.GetAtoms():\n",
    "        if atom.GetAtomicNum() == 7 and atom.GetTotalDegree() == 4:  # Nitrogen with 4 bonds\n",
    "            atom_info = f\"Atom Index: {atom.GetIdx()}, Atom Type: {atom.GetSymbol()}, Connected Atoms: \"\n",
    "            connected_atoms = [rdkit_mol.GetAtomWithIdx(b.GetOtherAtomIdx(atom.GetIdx())).GetSymbol() for b in atom.GetBonds()]\n",
    "            atom_info += ', '.join(connected_atoms)\n",
    "            print(\"Warning: found possible quaternary ammonium ion at\", atom_info)            \n",
    "            atom.SetFormalCharge(1)  # Assuming a positive charge for quaternary ammonium\n",
    "\n",
    "    # Sanitize the molecule to perceive aromaticity and other properties\n",
    "    Chem.SanitizeMol(rdkit_mol, Chem.SanitizeFlags.SANITIZE_ALL)\n",
    "\n",
    "    # Write the processed molecule back to SDF\n",
    "    writer = Chem.SDWriter(sdf_output_file)\n",
    "    writer.write(rdkit_mol)\n",
    "    writer.close()"
   ]
  },
  {
   "cell_type": "markdown",
   "id": "12d984d4-bf2d-4c44-9efc-b8233082c6c4",
   "metadata": {
    "tags": []
   },
   "source": [
    "### Veiwing the reprotonated ligand"
   ]
  },
  {
   "cell_type": "code",
   "execution_count": 123,
   "id": "25f00d27-cf3d-447b-8772-1e7a828f010b",
   "metadata": {
    "tags": []
   },
   "outputs": [
    {
     "name": "stdout",
     "output_type": "stream",
     "text": [
      "['FX5_1_ligand_with_h_with_h.sdf', 'FX5_1_ligandwith_h.sdf']\n"
     ]
    },
    {
     "data": {
      "application/vnd.jupyter.widget-view+json": {
       "model_id": "5a2d5ec5e57f4740a71614f98af12027",
       "version_major": 2,
       "version_minor": 0
      },
      "text/plain": [
       "Dropdown(description='Ligand:', options=('FX5_1_ligand_with_h_with_h.sdf', 'FX5_1_ligandwith_h.sdf'), value='F…"
      ]
     },
     "metadata": {},
     "output_type": "display_data"
    },
    {
     "data": {
      "application/vnd.jupyter.widget-view+json": {
       "model_id": "ec6512fbd86d479c881d4058f9585630",
       "version_major": 2,
       "version_minor": 0
      },
      "text/plain": [
       "Output()"
      ]
     },
     "metadata": {},
     "output_type": "display_data"
    }
   ],
   "source": [
    "import os\n",
    "from rdkit import Chem\n",
    "from rdkit.Chem.Draw import IPythonConsole\n",
    "from rdkit.Chem import Draw, AllChem \n",
    "from openff.toolkit.topology import Molecule\n",
    "import nglview as nv\n",
    "import ipywidgets as widgets\n",
    "from IPython.display import display\n",
    "\n",
    "def visualize_ligand(ligand_file):\n",
    "    # Need to use suplier when there are hydrogens\n",
    "    mol_supplier = Chem.SDMolSupplier(ligand_file, removeHs=False, sanitize=False)\n",
    "    rdkitmol = mol_supplier[0] if mol_supplier[0] is not None else None   # rdkitmol = mol_supplier[0]\n",
    "    with open(ligand_file, \"r\") as f:\n",
    "         sdf_data = f.read()\n",
    "    \n",
    "    # Draw shallow copy of 2d molecule for inspection \n",
    "    for mol in [rdkitmol.__copy__()]:\n",
    "        AllChem.Compute2DCoords(mol)\n",
    "        img = Chem.Draw.MolToImage(mol)  \n",
    "\n",
    "    # Create NGLview visualization\n",
    "    view = nv.NGLWidget()\n",
    "    view.add_component(rdkitmol)\n",
    "    view.representations = [{\"type\": \"ball+stick\", \"params\": {\"multipleBond\": \"offset\"}, \"showH\": \"true\"}]\n",
    "\n",
    "    # Display RDKit image and NGLview side by side\n",
    "    hbox = widgets.HBox([widgets.Image(value=img._repr_png_()), view])\n",
    "    return hbox\n",
    "\n",
    "def on_ligand_selected(change):\n",
    "    selected_file = os.path.join('assets/cookbook/Ligands', change['new'])\n",
    "    with visualization_output:\n",
    "        visualization_output.clear_output()\n",
    "        display(visualize_ligand(selected_file))\n",
    "\n",
    "\n",
    "ligands_folder = 'assets/cookbook/Ligands'\n",
    "ligand_files = [f for f in os.listdir(ligands_folder) if f.endswith('with_h.sdf')]\n",
    "print(ligand_files)\n",
    "dropdown = widgets.Dropdown(options=ligand_files,description='Ligand:',value=ligand_files[0])\n",
    "\n",
    "\n",
    "dropdown.observe(on_ligand_selected, names='value')\n",
    "visualization_output = widgets.Output()\n",
    "display(dropdown)\n",
    "display(visualization_output)\n",
    "\n",
    "# Show default ligand view if there is only one ligand\n",
    "if ligand_files[0] is not None:\n",
    "    dropdown.value = ligand_files[0]\n",
    "    on_ligand_selected({'new': ligand_files[0]})"
   ]
  },
  {
   "cell_type": "markdown",
   "id": "dec9295e-ce60-4963-ba1a-f35ecc96d428",
   "metadata": {},
   "source": [
    "# Creating OpenMM Compatible Files Using RDKit\n",
    "## Introduction\n",
    "In this section, we will be building protein-ligand complexes by creating an OpenMM-compatible ligand file (sdf/mol2) from an RDKit molecule. The ligand we will be using is in .sdf file format that we will need to convert it and prepear it for simulation. To ensure smooth simulation need to ensure that its desired position is relative to the protein to avoid it being too far away or inside the protein. Nanome can be used to design the ligand and construct a good starting positions for dynamics, which can significantly accelerate MD.\n",
    "\n",
    "## Loading the Ligand\n",
    "To begin, we will load the ligand from the .sdf file format. Once we have the ligand, we can add hydrogens to it using RDKit. \n",
    "\n",
    "## Converting to OpenMM-Compatible Format\n",
    "After adding hydrogens to the ligand, we can convert it to an OpenMM-compatible format using the OpenMM.Molecule function. This will allow us to build the protein-ligand complex using OpenMM by getting them both in the same format.\n",
    "\n",
    "We will inspact with both RdKits 2D viewer and ngview with bond orders"
   ]
  },
  {
   "cell_type": "markdown",
   "id": "681f298e-5c53-4b4a-a66b-406be4412a0f",
   "metadata": {
    "tags": []
   },
   "source": [
    " ## Converting an RDkit molecule to an OpenMM molecule\n",
    " \n",
    "To add the ligand back to the system, we will use a pre-split ligand file and convert it from SDF format into an OpenFF format and then into an OpenMM format. The below function will do the heavy lifting, for this example, we do not need to understand the deeper process, but effectively it works out the elements in the SDF file and processes it in order to construct a topology (connectivity)  for the molecule, this can then be used to used the general amber forcefield (GaFF) to create all the parameters for the bond, angle and dihedrals for the ligand."
   ]
  },
  {
   "cell_type": "code",
   "execution_count": 124,
   "id": "6d32c7e7-0469-437e-944d-b2a841435b22",
   "metadata": {
    "tags": []
   },
   "outputs": [],
   "source": [
    "import openmm.app as app\n",
    "from openff.toolkit.topology import Molecule\n",
    "\n",
    "def rdkit_to_openmm(rdkit_mol, name=\"LIG\"):\n",
    "    \"\"\"\n",
    "    Convert an RDKit molecule to an OpenMM molecule.\n",
    "\n",
    "    Parameters\n",
    "    ----------\n",
    "    rdkit_mol: rdkit.Chem.rdchem.Mol\n",
    "        RDKit molecule to convert.\n",
    "    name: str\n",
    "        Molecule name.\n",
    "\n",
    "    Returns\n",
    "    -------\n",
    "    omm_molecule: simtk.openmm.app.Modeller\n",
    "        OpenMM modeller object holding the molecule of interest.\n",
    "    \"\"\"\n",
    "    # convert RDKit to OpenFF\n",
    "    off_mol = Molecule.from_rdkit(rdkit_mol, allow_undefined_stereo=True)\n",
    "\n",
    "    # add name for molecule\n",
    "    off_mol.name = name\n",
    "\n",
    "    # add names for atoms\n",
    "    element_counter_dict = {}\n",
    "    for off_atom, rdkit_atom in zip(off_mol.atoms, rdkit_mol.GetAtoms()):\n",
    "        element = rdkit_atom.GetSymbol()\n",
    "        if element in element_counter_dict.keys():\n",
    "            element_counter_dict[element] += 1\n",
    "        else:\n",
    "            element_counter_dict[element] = 1\n",
    "        off_atom.name = element + str(element_counter_dict[element])\n",
    "\n",
    "    # convert from OpenFF to OpenMM\n",
    "    off_mol_topology = off_mol.to_topology()\n",
    "    mol_topology = off_mol_topology.to_openmm()\n",
    "    mol_positions = off_mol.conformers[0]\n",
    "\n",
    "    # convert units from Ångström to nanometers\n",
    "    # since OpenMM works in nm\n",
    "    mol_positions = mol_positions.to(\"nanometers\")\n",
    "\n",
    "    # combine topology and positions in modeller object\n",
    "    omm_mol = app.Modeller(mol_topology, mol_positions)\n",
    "\n",
    "    return omm_mol, off_mol"
   ]
  },
  {
   "cell_type": "markdown",
   "id": "11a5968d-f243-4c71-97b3-eba6bb410963",
   "metadata": {},
   "source": [
    "### Create openMM objects from the hydrated ligand sdf file"
   ]
  },
  {
   "cell_type": "code",
   "execution_count": 76,
   "id": "5cfabac5-742a-48d3-873d-c33d2a4b0665",
   "metadata": {
    "jupyter": {
     "source_hidden": true
    },
    "tags": []
   },
   "outputs": [],
   "source": [
    "from rdkit import Chem\n",
    "from rdkit.Chem import AllChem\n",
    "import os\n",
    "\n",
    "ligands_folder = 'assets/cookbook/Ligands'\n",
    "ligand_files = [f for f in os.listdir(ligands_folder) if f.endswith('_h.pdb')]\n",
    "\n",
    "for input_file in ligand_files:\n",
    "    file_base_name, _ = os.path.splitext(input_file)\n",
    "    \n",
    "    # Read PDB file with RDKit\n",
    "    pdb_file_path = os.path.join(ligands_folder, input_file)\n",
    "    rdkit_mol = Chem.MolFromPDBFile(pdb_file_path, removeHs=False, sanitize=False)\n",
    "\n",
    "    if rdkit_mol is None:\n",
    "        print(f\"Could not load {pdb_file_path} with RDKit.\")\n",
    "        continue\n",
    "\n",
    "    # Adjust the nitrogen atom's charge state if necessary\n",
    "    for atom in rdkit_mol.GetAtoms():\n",
    "        if atom.GetAtomicNum() == 7 and atom.GetTotalDegree() == 4:  # Nitrogen with 4 bonds\n",
    "            atom.SetFormalCharge(1)  # Assuming a positive charge for quaternary ammonium\n",
    "\n",
    "    # Write to SDF\n",
    "    sdf_output_file = os.path.join(ligands_folder, file_base_name + \"_with_h.sdf\")\n",
    "    writer = Chem.SDWriter(sdf_output_file)\n",
    "    writer.write(rdkit_mol)\n",
    "    writer.close()\n"
   ]
  },
  {
   "cell_type": "code",
   "execution_count": 125,
   "id": "4d2b9e52-b1b5-40a1-8646-5ed6f1e72c70",
   "metadata": {
    "tags": []
   },
   "outputs": [],
   "source": [
    "from rdkit import Chem\n",
    "import os\n",
    "\n",
    "# Load the hydrated ligand files\n",
    "ligands_folder = 'assets/cookbook/Ligands'\n",
    "ligand_files = [f for f in os.listdir(ligands_folder) if f.endswith('_h.sdf')]\n",
    "\n",
    "# loop through each ligand file found\n",
    "for file in ligand_files:\n",
    "    rdkit_ligand = Chem.MolFromMolFile(ligands_folder+\"/\"+file, sanitize=False, removeHs=False)\n",
    "    ligand_name= \"LIG\"\n",
    "    omm_ligand, off_ligand = rdkit_to_openmm(rdkit_ligand, ligand_name)"
   ]
  },
  {
   "cell_type": "code",
   "execution_count": 61,
   "id": "22eccfe8-00ec-4f8e-82ff-71cedcc8426b",
   "metadata": {
    "jupyter": {
     "source_hidden": true
    },
    "tags": []
   },
   "outputs": [],
   "source": [
    "# from rdkit import Chem\n",
    "# import subprocess\n",
    "\n",
    "# ligands_folder = 'assets/cookbook/Ligands'\n",
    "# ligand_files = [f for f in os.listdir(ligands_folder) if f.endswith('_h.pdb')]\n",
    "\n",
    "# for file in ligand_files: \n",
    "#     # Get the input file's base name without the extension\n",
    "#     file_base_name, _ = os.path.splitext(file)\n",
    "\n",
    "#     # Add hydrogens to the input PDB file using the 'reduce' program\n",
    "#     output_sdf_with_h = os.path.join(ligands_folder, f\"{file_base_name}.sdf\")\n",
    "    \n",
    "#     mol = next(pybel.readfile(\"pdb\", 'assets/cookbook/Ligands'+\"/\"+file))\n",
    "#     #mol.addh()\n",
    "#     mol.write(\"sdf\", output_sdf_with_h, overwrite=True)\n",
    "\n",
    "#     rdkit_ligand = Chem.MolFromMolFile(output_sdf_with_h)\n",
    "#     print(file)\n",
    "#     ligand_name= \"LIG\"\n",
    "#     omm_ligand = rdkit_to_openmm(rdkit_ligand, ligand_name)"
   ]
  },
  {
   "cell_type": "markdown",
   "id": "6ce5709f-6106-42e3-b5bc-8a5f008a7dcf",
   "metadata": {
    "tags": []
   },
   "source": [
    "# Viewing the prepeared protein"
   ]
  },
  {
   "cell_type": "code",
   "execution_count": 101,
   "id": "e24b41b5-b769-452c-8c66-51b03234a5bb",
   "metadata": {
    "tags": []
   },
   "outputs": [],
   "source": [
    "from openmm.app import * \n",
    "from openmm import *\n",
    "from openmm.unit import *\n",
    "from openmm.openmm import *\n",
    "from pdbfixer import PDBFixer\n",
    "import subprocess\n",
    "\n",
    "# PDB file that we will use as a starting structure\n",
    "pdb_start = \"assets/cookbook/pdbs_not_for_repo/modified_6HAZ.pdb\"\n",
    "\n",
    "# PDB file that we will use as the cleaned output structure\n",
    "pdb_out = 'assets/cookbook/cleaned_output.pdb'\n",
    "\n",
    "#output_capture = io.StringIO()\n",
    "\n",
    "# Use amber4pdb to clean up records for use with amber forcefield\n",
    "pdb4amber_result = subprocess.run([\"pdb4amber\", \"--nohyd\", \"--dry\", pdb_start],\n",
    "        stdout=subprocess.PIPE,\n",
    "        stderr=subprocess.PIPE,\n",
    "        text=True\n",
    "    )\n",
    "\n",
    "with open(pdb_out, 'wb') as f:\n",
    "    f.write(pdb4amber_result.stdout.encode(\"utf-8\")) \n",
    "\n",
    "# Use reduce to add hydrogens according to ambers preferences    \n",
    "#try:\n",
    "#    out = subprocess.check_output([\"reduce\", \"-build\", \"-nuclear\", \"assets/cookbook/cleaned_output.pdb\"], stderr=subprocess.PIPE)\n",
    "#except subprocess.CalledProcessError as e:\n",
    "#    print(\"Error message from reduce:\", e.stderr.decode())\n",
    "\n",
    "# Use OpenMMs pdbfixer to fix some final issues that can crop up\n",
    "fixed_pdb = PDBFixer(filename=pdb_out)\n",
    "fixed_pdb.findMissingResidues()\n",
    "fixed_pdb.findNonstandardResidues()\n",
    "#fixer.replaceNonstandardResidues(\n",
    "fixed_pdb.removeHeterogens(True) # comment to run with ligand\n",
    "fixed_pdb.findMissingAtoms()\n",
    "fixed_pdb.addMissingAtoms()\n",
    "fixed_pdb.addMissingHydrogens(7.0)\n",
    "PDBFile.writeFile(fixed_pdb.topology, fixed_pdb.positions, open(pdb_out, 'w'))\n",
    "\n"
   ]
  },
  {
   "cell_type": "markdown",
   "id": "c39848b3-b066-4d42-8ce1-0f41b5be2447",
   "metadata": {
    "tags": []
   },
   "source": [
    "## View the uncomplexed protien"
   ]
  },
  {
   "cell_type": "code",
   "execution_count": 102,
   "id": "10d471fc-659a-4437-aaf7-a38faaf04b68",
   "metadata": {
    "tags": []
   },
   "outputs": [
    {
     "data": {
      "application/vnd.jupyter.widget-view+json": {
       "model_id": "f742851509d34f878f2e9ef9cf0b940b",
       "version_major": 2,
       "version_minor": 0
      },
      "text/plain": [
       "NGLWidget()"
      ]
     },
     "metadata": {},
     "output_type": "display_data"
    }
   ],
   "source": [
    "import nglview as nv\n",
    "view = nv.show_structure_file(\"assets/cookbook/cleaned_output.pdb\")\n",
    "#view.add_ball_and_stick(\"protien\") \n",
    "view"
   ]
  },
  {
   "cell_type": "markdown",
   "id": "34c6abca-5e16-414a-974c-51cd6ab907a1",
   "metadata": {},
   "source": [
    "## Merge the protien and the ligand topologies"
   ]
  },
  {
   "cell_type": "code",
   "execution_count": 126,
   "id": "f64d6de1-fcd9-4460-8860-43d3c509ec87",
   "metadata": {
    "tags": []
   },
   "outputs": [],
   "source": [
    "import mdtraj as md\n",
    "import numpy as np\n",
    "def merge_protein_and_ligand(protein, ligand):\n",
    "    \"\"\"\n",
    "    Merge two OpenMM objects.\n",
    "\n",
    "    Parameters\n",
    "    ----------\n",
    "    protein: pdbfixer.pdbfixer.PDBFixer\n",
    "        Protein to merge.\n",
    "    ligand: simtk.openmm.app.Modeller\n",
    "        Ligand to merge.\n",
    "\n",
    "    Returns\n",
    "    -------\n",
    "    complex_topology: simtk.openmm.app.topology.Topology\n",
    "        The merged topology.\n",
    "    complex_positions: simtk.unit.quantity.Quantity\n",
    "        The merged positions.\n",
    "    \"\"\"\n",
    "    # combine topologies\n",
    "    md_protein_topology = md.Topology.from_openmm(protein.topology)  # using mdtraj for protein top\n",
    "    md_ligand_topology = md.Topology.from_openmm(ligand.topology)  # using mdtraj for ligand top\n",
    "    md_complex_topology = md_protein_topology.join(md_ligand_topology)  # add them together\n",
    "    complex_topology = md_complex_topology.to_openmm()\n",
    "\n",
    "    # combine positions\n",
    "    total_atoms = len(protein.positions) + len(ligand.positions)\n",
    "\n",
    "    # create an array for storing all atom positions as tupels containing a value and a unit\n",
    "    # called OpenMM Quantities\n",
    "    complex_positions = unit.Quantity(np.zeros([total_atoms, 3]), unit=unit.nanometers)\n",
    "    complex_positions[: len(protein.positions)] = protein.positions  # add protein positions\n",
    "    complex_positions[len(protein.positions) :] = ligand.positions  # add ligand positions\n",
    "\n",
    "    return complex_topology, complex_positions"
   ]
  },
  {
   "cell_type": "code",
   "execution_count": 127,
   "id": "87e76909-d132-4d2b-a8b5-be38c98ca6b1",
   "metadata": {
    "tags": []
   },
   "outputs": [
    {
     "name": "stdout",
     "output_type": "stream",
     "text": [
      "Complex topology has 1935 atoms.\n"
     ]
    },
    {
     "name": "stderr",
     "output_type": "stream",
     "text": [
      "/opt/conda/lib/python3.10/site-packages/openmm/unit/quantity.py:753: UnitStrippedWarning: The unit of the quantity is stripped when downcasting to ndarray.\n",
      "  self._value[key] = value / self.unit\n"
     ]
    },
    {
     "data": {
      "text/plain": [
       "<Topology; 2 chains, 114 residues, 1935 atoms, 1953 bonds>"
      ]
     },
     "execution_count": 127,
     "metadata": {},
     "output_type": "execute_result"
    }
   ],
   "source": [
    "complex_topology, complex_positions = merge_protein_and_ligand(fixed_pdb, omm_ligand)\n",
    "print(\"Complex topology has\", complex_topology.getNumAtoms(), \"atoms.\")\n",
    "complex_topology"
   ]
  },
  {
   "cell_type": "markdown",
   "id": "e97d1c47-1651-479c-805c-fb5d60c7231c",
   "metadata": {},
   "source": [
    "# Viewing the prepearped protien ligand complex PDB\n",
    "\n",
    "We can view the new protien ligand complex held in the \"complex_topology/Complex_positions\" by exporting to the temp.pdb"
   ]
  },
  {
   "cell_type": "code",
   "execution_count": 128,
   "id": "9bb97f8d-2db9-48b5-b681-94bb89129d48",
   "metadata": {
    "tags": []
   },
   "outputs": [
    {
     "data": {
      "application/vnd.jupyter.widget-view+json": {
       "model_id": "f179674bc5ac48efb68d623074750132",
       "version_major": 2,
       "version_minor": 0
      },
      "text/plain": [
       "NGLWidget()"
      ]
     },
     "metadata": {},
     "output_type": "display_data"
    }
   ],
   "source": [
    "PDBFile.writeFile(complex_topology, complex_positions, open('assets/cookbook/temp.pdb', 'w'))\n",
    "view = nv.show_structure_file(\"assets/cookbook/temp.pdb\")\n",
    "view"
   ]
  },
  {
   "cell_type": "markdown",
   "id": "f1d43e78-1a3a-4ec2-a9a7-cc31d65e7596",
   "metadata": {
    "tags": []
   },
   "source": [
    "# Create the parameters for the ligand \n",
    "\n",
    "We have generated both the ligand positions and a topology combined with the protein (complex_positions and complex_topology). Our final setep is to register the ligand as part of the Forcefield using the Gaff Generator, which effectively parses and adds the physical description of the ligand to the standard protien Forcefield."
   ]
  },
  {
   "cell_type": "code",
   "execution_count": 87,
   "id": "544a6d5d-7525-444c-a41c-3fbfa28b0395",
   "metadata": {
    "tags": []
   },
   "outputs": [
    {
     "name": "stdout",
     "output_type": "stream",
     "text": [
      "\n",
      "OpenMM Version: 8.1\n",
      "Git Revision: 43f571d90fc1c882848cbd9b55e097a1775a9075\n",
      "\n",
      "There are 3 Platforms available:\n",
      "\n",
      "1 Reference - Successfully computed forces\n",
      "2 CPU - Successfully computed forces\n",
      "3 CUDA - Successfully computed forces\n",
      "\n",
      "Median difference in forces between platforms:\n",
      "\n",
      "Reference vs. CPU: 6.30914e-06\n",
      "Reference vs. CUDA: 6.73363e-06\n",
      "CPU vs. CUDA: 6.96327e-07\n",
      "\n",
      "All differences are within tolerance.\n"
     ]
    }
   ],
   "source": [
    "!python -m openmm.testInstallation"
   ]
  },
  {
   "cell_type": "code",
   "execution_count": 129,
   "id": "557f7408-6e72-4c0a-b985-66e573d1ab43",
   "metadata": {
    "tags": []
   },
   "outputs": [
    {
     "name": "stderr",
     "output_type": "stream",
     "text": [
      "Exception ignored in: <function DcdTrajectory.__del__ at 0x7ff7c9da95a0>\n",
      "Traceback (most recent call last):\n",
      "  File \"/opt/conda/lib/python3.10/site-packages/simpletraj/trajectory.py\", line 359, in __del__\n",
      "    if self.dcd:\n",
      "AttributeError: 'DcdTrajectory' object has no attribute 'dcd'\n",
      "Exception ignored in: <function DCDReader.__del__ at 0x7ff7c9d67be0>\n",
      "Traceback (most recent call last):\n",
      "  File \"/opt/conda/lib/python3.10/site-packages/simpletraj/dcd/dcd.py\", line 81, in __del__\n",
      "    self.close()\n",
      "  File \"/opt/conda/lib/python3.10/site-packages/simpletraj/dcd/dcd.py\", line 77, in close\n",
      "    self._finish_dcd_read()\n",
      "  File \"/opt/conda/lib/python3.10/site-packages/simpletraj/dcd/dcd.py\", line 101, in <lambda>\n",
      "    DCDReader._finish_dcd_read = lambda self: _dcdmodule._finish_dcd_read( self )\n",
      "AttributeError: _dcd_C_ptr is not an attribute1\n"
     ]
    }
   ],
   "source": [
    "from sys import stdout\n",
    "from openmm.app import ForceField\n",
    "from openff.toolkit.topology import Molecule, Topology\n",
    "from openmmforcefields.generators import GAFFTemplateGenerator\n",
    "from mdtraj.reporters import XTCReporter\n",
    "\n",
    "# The forcefieild for the protein and solvent (if used)\n",
    "protein_ff=\"amber14-all.xml\" \n",
    "solvent_ff=\"amber14/tip3pfb.xml\"\n",
    "forcefield = app.ForceField(protein_ff, solvent_ff)\n",
    "\n",
    "# Generate and add the forcefeild terms to the \"forcefeild\" function holdiding the protein and solver terms\n",
    "#gaff = GAFFTemplateGenerator(molecules=Molecule.from_rdkit(rdkit_ligand, allow_undefined_stereo=True))\n",
    "gaff = GAFFTemplateGenerator(molecules=off_ligand)\n",
    "\n",
    "\n",
    "forcefield.registerTemplateGenerator(gaff.generator)\n",
    "\n",
    "# The modeller collects together the molecular data (positions and toplology) ready for combining with the forcefeild\n",
    "modeller = app.Modeller(complex_topology, complex_positions)\n",
    "\n",
    "#Solvate the complex\n",
    "modeller.addSolvent(forcefield, padding=0.15*unit.nanometers)"
   ]
  },
  {
   "cell_type": "markdown",
   "id": "38bb780e-a7ff-4f2c-ad1e-4ddb0065a2b1",
   "metadata": {
    "tags": []
   },
   "source": [
    "# Running the simulation\n",
    "\n",
    "We have now created a unified set of coordinates and a unified topology connecting all those coordinates and a forcefield with all the necessary terms for describing the physics between the atoms and molecules. We will now set the physical conditions for the simulation, such as the temperature and timestep for the simulation to run.\n",
    "\n",
    "The simulation below will take a little while to set up and then the number of steps will progress quite rapidly, depending on the number of atoms in the system and how often we checkpoint the simulation.\n",
    "\n",
    "We have selected the following parameters below for the simulation.\n",
    "\n",
    "* Integrator : Langevin\n",
    "* Nonbonded cutoff distance : 1 Nanometer\n",
    "* friction coefficient : 0.1 picosecond\n",
    "* Temperature : 300 kelvin\n",
    "* Timestep : 0.004 picoseconds\n",
    "* Number of timesteps : 2000 steps\n",
    "* Total simulation time : 8 picoseconds\n",
    "* Number of stpes between checkpoints : 100 steps\n",
    "* Real world time between steps : 0.4 picoseconds\n",
    "* Water box to generate 0.15 nanometers.\n",
    "\n",
    "# With explicit waters this will take a LONG TIME"
   ]
  },
  {
   "cell_type": "code",
   "execution_count": 133,
   "id": "0e9bce32-2cbf-4674-a70f-55c12160c06e",
   "metadata": {
    "tags": []
   },
   "outputs": [
    {
     "name": "stdout",
     "output_type": "stream",
     "text": [
      "#\"Step\",\"Potential Energy (kJ/mole)\",\"Temperature (K)\"\n",
      "100,-215540.94604492188,99.79475015273518\n",
      "200,-208197.52890014648,166.12127896710012\n",
      "300,-203259.83862304688,210.6017193304774\n",
      "400,-199701.3759765625,237.43063481731338\n",
      "500,-196849.77285766602,255.96887196690793\n",
      "600,-194965.4187927246,267.32048185880484\n",
      "700,-193886.92568969727,275.2545677071237\n",
      "800,-192998.12063598633,284.2814224798359\n",
      "900,-191763.25553894043,287.53696526942474\n",
      "1000,-191582.20904541016,298.31212554041326\n",
      "1100,-190672.40115356445,293.6730351893583\n",
      "1200,-190387.88177490234,293.7341967395436\n",
      "1300,-190649.07885742188,302.2164658126373\n",
      "1400,-190024.25994873047,296.9989948331079\n",
      "1500,-190229.6150817871,293.3146080560549\n",
      "1600,-190743.07405090332,302.05554659667854\n",
      "1700,-190200.56015014648,299.06440196601136\n",
      "1800,-189969.95793151855,302.06556224367273\n",
      "1900,-189969.98640441895,300.85755512940983\n",
      "2000,-189486.78408813477,299.2269824214353\n",
      "2100,-190650.81622314453,305.15040843557375\n",
      "2200,-190151.4721069336,302.15615480719896\n",
      "2300,-190299.22538757324,298.7116087588721\n",
      "2400,-190825.4090423584,301.9583386959879\n",
      "2500,-190447.13554382324,294.6848081809447\n",
      "2600,-190856.42211914062,293.98279355140335\n",
      "2700,-191527.8913269043,305.07287172748784\n",
      "2800,-191052.66635131836,300.94414689957955\n",
      "2900,-191140.60702514648,302.6089582591924\n",
      "3000,-191470.40563964844,301.06924154624824\n",
      "3100,-191535.26318359375,302.53998990924595\n",
      "3200,-191166.37031555176,297.650343739159\n",
      "3300,-191489.63856506348,304.3589709479517\n",
      "3400,-190972.1925354004,305.26608060738926\n",
      "3500,-191284.6330871582,304.94086783011795\n",
      "3600,-190793.3155517578,300.4592354826122\n",
      "3700,-190744.43368530273,299.74040666396087\n",
      "3800,-191142.67092895508,300.5138938266158\n",
      "3900,-191637.75260925293,304.80185173464764\n",
      "4000,-191376.67070007324,299.29388326600093\n",
      "4100,-191159.45635986328,298.23822971117676\n",
      "4200,-191588.4553527832,302.99398862111775\n",
      "4300,-190924.181930542,299.12169664685024\n",
      "4400,-191102.39392089844,298.694091753393\n",
      "4500,-191422.13221740723,302.96549368008243\n",
      "4600,-191288.4578857422,300.61027368861716\n",
      "4700,-191107.25186157227,305.0055211614941\n",
      "4800,-189857.8056640625,299.84981526331916\n",
      "4900,-190525.9383239746,306.0575840643201\n",
      "5000,-190502.5133972168,304.56658510660003\n",
      "5100,-189974.834274292,301.4723731157615\n",
      "5200,-190050.7221069336,303.876647608476\n",
      "5300,-189952.95956420898,305.22367236272623\n",
      "5400,-189606.19676208496,305.5856527582578\n",
      "5500,-189841.75395202637,302.90992154198295\n",
      "5600,-189685.3723526001,302.59923544235335\n",
      "5700,-190735.8860168457,303.8511202385743\n",
      "5800,-190698.9764251709,304.9752999587475\n",
      "5900,-191232.18914794922,305.5259824539628\n",
      "6000,-191213.6157836914,303.0322533156225\n",
      "6100,-191330.31400299072,300.6313000844098\n",
      "6200,-190700.2752380371,300.31723307309255\n",
      "6300,-190677.94555664062,301.09983658598685\n",
      "6400,-191124.2785797119,303.0789839088018\n",
      "6500,-190917.9250793457,302.14584476458975\n",
      "6600,-191115.46157836914,301.61830343486923\n",
      "6700,-191336.949508667,298.97290131372483\n",
      "6800,-191729.03771972656,297.4781674983947\n",
      "6900,-191717.2932662964,297.70197461983594\n",
      "7000,-191212.60578918457,298.4941413478929\n",
      "7100,-191514.58584594727,299.85272949323\n",
      "7200,-191360.70666503906,299.17763071701387\n",
      "7300,-191296.13288879395,300.19137320819186\n",
      "7400,-191690.71835327148,300.98915723412676\n",
      "7500,-191594.05349731445,305.5350722553857\n",
      "7600,-191706.84280395508,303.6153735995633\n",
      "7700,-191212.23965454102,298.0146341718751\n",
      "7800,-190963.85278320312,298.5905897171811\n",
      "7900,-190630.5927734375,299.29639288209796\n",
      "8000,-190479.35479736328,298.40735313146274\n",
      "8100,-190668.09393310547,298.2547753576843\n",
      "8200,-190914.5062866211,298.55900973899344\n",
      "8300,-191587.05863952637,302.5584815655028\n",
      "8400,-191695.50732421875,300.06754654370565\n",
      "8500,-191878.11190795898,301.35170783807035\n",
      "8600,-191038.94371032715,300.2079324361128\n",
      "8700,-191103.65390014648,299.56595190162056\n",
      "8800,-191349.11239624023,303.40786700772287\n",
      "8900,-191333.74182128906,300.8674143857259\n",
      "9000,-191506.7013244629,301.1796100750026\n",
      "9100,-191447.51733398438,301.8945818076213\n",
      "9200,-190815.242477417,299.61108582830855\n",
      "9300,-190733.57456970215,299.4531097839711\n",
      "9400,-190958.82580566406,301.2840397664124\n",
      "9500,-191490.6213531494,307.1582109980649\n",
      "9600,-191052.75610351562,305.60982176060253\n",
      "9700,-191029.50918579102,304.13946957352977\n",
      "9800,-191627.0471496582,307.0190175196391\n",
      "9900,-190788.68887329102,302.45071720807385\n",
      "10000,-190616.0816192627,299.0644362393552\n",
      "10100,-191231.6611328125,301.24600654021174\n",
      "10200,-191397.53540039062,299.9803007879837\n",
      "10300,-191068.36430358887,297.37287089475507\n",
      "10400,-191514.76794433594,297.6869975990257\n",
      "10500,-191834.96382141113,301.75939376324357\n",
      "10600,-191839.04150390625,302.02889260296047\n",
      "10700,-191988.17738342285,300.76467867624274\n",
      "10800,-192149.5163421631,299.3037958405902\n",
      "10900,-192787.63717651367,302.06949489507997\n",
      "11000,-191759.31289672852,296.0326991189282\n",
      "11100,-191703.16581726074,303.7314269195027\n",
      "11200,-190993.3837814331,296.24326542339907\n",
      "11300,-191791.5129699707,299.4686304864959\n",
      "11400,-192011.76321411133,306.4643593413995\n",
      "11500,-192133.15393066406,301.95811980927226\n",
      "11600,-191851.88304138184,299.64978702485377\n",
      "11700,-191951.24389648438,297.87032078630847\n",
      "11800,-192219.20614624023,295.3341779289797\n",
      "11900,-192009.74826049805,296.3952836376228\n",
      "12000,-192494.26498413086,296.8471800491308\n",
      "12100,-191884.13339233398,298.42518215847576\n",
      "12200,-192330.93377685547,296.90545052270676\n",
      "12300,-191806.7384033203,295.7460923533105\n",
      "12400,-191821.00033569336,304.7050734033025\n",
      "12500,-191484.42916870117,301.22874985611236\n",
      "12600,-192041.11587524414,302.53813991902894\n",
      "12700,-191858.08367919922,301.9167025548523\n",
      "12800,-191102.32788085938,298.72273236164364\n",
      "12900,-192220.99160766602,300.78102242049226\n",
      "13000,-191956.0140838623,303.6237736543764\n",
      "13100,-191467.2635192871,300.48844154972005\n",
      "13200,-191874.9224395752,301.25270894726447\n",
      "13300,-191581.8324432373,299.1100723119955\n",
      "13400,-191710.06687927246,301.3838694078815\n",
      "13500,-191537.1432952881,298.5806615403753\n",
      "13600,-191442.6382598877,299.6623506449083\n",
      "13700,-192164.59953308105,302.9736678596121\n",
      "13800,-191986.5177001953,301.19297753918784\n",
      "13900,-191263.3649597168,296.02316573839784\n",
      "14000,-191714.83164978027,301.33072457224637\n",
      "14100,-192076.86065673828,305.13000359565683\n",
      "14200,-191798.15272521973,301.7858603573141\n",
      "14300,-191759.27185058594,300.83656818124666\n",
      "14400,-190843.81448364258,300.4899412035819\n",
      "14500,-191042.83992004395,304.98188461016105\n",
      "14600,-190867.57580566406,306.25763169159745\n",
      "14700,-190833.8761138916,303.12452317622234\n",
      "14800,-190833.11227416992,301.2562194752494\n",
      "14900,-190938.83514404297,301.2368746185828\n",
      "15000,-191154.4264984131,305.58078696933114\n",
      "15100,-190541.16439819336,304.27881981679764\n",
      "15200,-191077.78298950195,303.66686234688035\n",
      "15300,-190783.82217407227,299.73939524601104\n",
      "15400,-190817.7857208252,300.9230079368914\n",
      "15500,-191532.57553100586,302.0582614205882\n",
      "15600,-191385.15371704102,302.3034194947014\n",
      "15700,-191890.84797668457,305.5964337390141\n",
      "15800,-191967.53952026367,302.99855860520296\n",
      "15900,-191751.98864746094,297.1211728962602\n",
      "16000,-191481.1655883789,298.1195193077899\n",
      "16100,-191544.24227905273,301.75065192880066\n",
      "16200,-191782.87391662598,298.63827534354874\n",
      "16300,-192345.14073181152,305.48465630605546\n",
      "16400,-191900.74127197266,302.01442956625965\n",
      "16500,-191309.5782775879,300.45327038166295\n",
      "16600,-191480.40589904785,302.93287152776264\n",
      "16700,-191245.5143737793,301.6558608149441\n",
      "16800,-191248.43110656738,300.2196785624305\n",
      "16900,-192084.90557861328,301.8769853138798\n",
      "17000,-192420.0848083496,303.5330394862346\n",
      "17100,-191845.13134765625,297.9263761392242\n",
      "17200,-191906.35900878906,300.39630598699017\n",
      "17300,-192085.2764892578,302.3394179197378\n",
      "17400,-192079.290725708,301.6586429351332\n",
      "17500,-191621.6989440918,302.6964441659651\n",
      "17600,-192068.33415222168,303.04725366229076\n",
      "17700,-192088.6172027588,300.6346603475646\n",
      "17800,-191743.81100463867,300.31156766099446\n",
      "17900,-191662.6178741455,299.4446812251951\n",
      "18000,-191733.01837158203,304.3187292098474\n",
      "18100,-192003.18966674805,302.0212689573197\n",
      "18200,-191534.9334716797,298.389220467177\n",
      "18300,-191650.60913085938,298.8190017493847\n",
      "18400,-191923.92184448242,301.2365511864859\n",
      "18500,-191214.85208129883,301.4481232159078\n",
      "18600,-191543.73477172852,298.91166371761176\n",
      "18700,-191712.8966064453,306.7278912543119\n",
      "18800,-191525.42227172852,308.0839230129591\n",
      "18900,-190648.15075683594,297.85009176132314\n",
      "19000,-190918.5901184082,302.4444119009311\n",
      "19100,-191389.85942077637,298.79073548480136\n",
      "19200,-191420.79986572266,300.24224565287903\n",
      "19300,-191117.44607543945,296.5676097490953\n",
      "19400,-190806.7541809082,301.26422936250054\n",
      "19500,-191146.51776123047,302.00418964377536\n",
      "19600,-191838.35943603516,303.03923446653357\n",
      "19700,-191604.02841186523,301.04614745285033\n",
      "19800,-191894.5412902832,300.51320603319135\n",
      "19900,-191464.81086730957,301.0362221272827\n",
      "20000,-191454.82318115234,298.3568542687091\n",
      "20100,-191460.38635253906,300.4278412151468\n",
      "20200,-191647.45455932617,300.5115731399385\n",
      "20300,-191395.67999267578,296.49604871695607\n",
      "20400,-191423.4112854004,297.0029334408609\n",
      "20500,-191299.3827972412,299.48291077446703\n",
      "20600,-191479.0920715332,297.6017335175569\n",
      "20700,-191320.68994140625,299.4331750004651\n",
      "20800,-190668.3712463379,298.1446304142037\n",
      "20900,-190765.5111694336,300.69273146303647\n",
      "21000,-191128.87576293945,304.2086323637169\n",
      "21100,-191810.7081604004,308.5478248875779\n",
      "21200,-191025.36599731445,303.1777840090448\n",
      "21300,-191241.22323608398,302.1969580383018\n",
      "21400,-191145.26901245117,300.1768955844334\n",
      "21500,-191262.47737121582,301.58345363044276\n",
      "21600,-191201.7154083252,302.11851974859985\n",
      "21700,-191184.00924682617,302.3489688172658\n",
      "21800,-191704.81742858887,302.14935259323596\n",
      "21900,-191511.3214111328,301.0391665787892\n",
      "22000,-191279.73667907715,297.4082191936616\n",
      "22100,-191365.83340454102,304.0525008004832\n",
      "22200,-191058.2420349121,302.1801993326948\n",
      "22300,-191004.3956451416,303.65575601168126\n",
      "22400,-191641.03189086914,306.9780630979735\n",
      "22500,-191123.28125,304.7080204285467\n",
      "22600,-191029.38327026367,300.6896800874418\n",
      "22700,-191656.32667541504,299.08864299605364\n",
      "22800,-191620.47912597656,298.20290977653366\n",
      "22900,-192029.78067016602,296.6066098938862\n",
      "23000,-191732.7700805664,299.28488913780467\n",
      "23100,-191911.4393005371,297.42880328396717\n",
      "23200,-190644.74780273438,297.1205753693576\n",
      "23300,-191143.58291625977,300.2045844517532\n",
      "23400,-191007.28732299805,301.9877792072121\n",
      "23500,-191461.09603881836,304.11932340186763\n",
      "23600,-191866.62539672852,303.71658932591805\n",
      "23700,-191945.71875,303.32406266526954\n",
      "23800,-191885.14126586914,305.17613153797174\n",
      "23900,-191028.46447753906,303.1316936748772\n",
      "24000,-191286.9421081543,300.6843852459917\n",
      "24100,-191492.95471191406,300.21105517927623\n",
      "24200,-191580.5684814453,301.6478756644806\n",
      "24300,-191729.88375854492,298.71540003280785\n",
      "24400,-191290.97073364258,299.6029257044967\n",
      "24500,-191838.45858764648,303.45059549130673\n",
      "24600,-192039.52618408203,305.856997536484\n",
      "24700,-192015.9868774414,300.90536378325845\n",
      "24800,-191388.19134521484,297.44045781923086\n",
      "24900,-191960.24256896973,299.3639241243028\n",
      "25000,-192542.5186767578,300.27563996321817\n",
      "25100,-192651.46746826172,296.91491208374987\n",
      "25200,-192629.7409362793,299.39117600802257\n",
      "25300,-192426.21389770508,300.4576671700057\n",
      "25400,-192273.0594177246,301.47850209024114\n",
      "25500,-191813.24609375,298.11225373837425\n",
      "25600,-192350.6971282959,299.2870890129544\n",
      "25700,-191860.93173217773,299.10556434452565\n",
      "25800,-191825.90518188477,298.98635586032447\n",
      "25900,-192120.64309692383,299.3011303498394\n",
      "26000,-192334.65223693848,302.76202583169004\n",
      "26100,-192864.09564208984,302.68791395863724\n",
      "26200,-191972.0938873291,297.37655020607116\n",
      "26300,-192310.2473449707,302.40476790890256\n",
      "26400,-192425.4907836914,303.9065471030979\n",
      "26500,-191477.51174926758,301.1596233050987\n",
      "26600,-191519.8363647461,305.718384227859\n",
      "26700,-191819.6364440918,299.27888920075515\n",
      "26800,-192229.86041259766,304.9978526401305\n",
      "26900,-191916.0096130371,302.6042580797153\n",
      "27000,-191621.69052124023,302.8843431227107\n",
      "27100,-191176.34384155273,302.28622840725455\n",
      "27200,-191651.42623901367,303.54687209774755\n",
      "27300,-191533.4916381836,304.44843735716455\n",
      "27400,-191389.82904052734,305.2347668006706\n",
      "27500,-191304.7283630371,299.02101271282135\n",
      "27600,-191148.06414794922,302.7172813066822\n",
      "27700,-191228.1648864746,303.21774267456186\n",
      "27800,-190919.89344787598,302.44265231222397\n",
      "27900,-191180.88317871094,297.4036646330435\n",
      "28000,-191398.96102905273,300.35019294590575\n",
      "28100,-190963.59704589844,298.3880426566716\n",
      "28200,-191063.6622314453,295.96497185812916\n",
      "28300,-191168.49392700195,303.46735206519185\n",
      "28400,-191348.48822021484,299.1296005538424\n",
      "28500,-191841.3023071289,306.1233289157297\n",
      "28600,-191859.72717285156,302.6167476143042\n",
      "28700,-192645.6989440918,300.41534232612526\n",
      "28800,-191800.83731079102,296.0985803166238\n",
      "28900,-191964.2717590332,298.50572403912804\n",
      "29000,-192222.72497558594,301.9025805114632\n",
      "29100,-191948.7973022461,299.23663577952385\n",
      "29200,-192117.32177734375,299.16710903564314\n",
      "29300,-192169.63372802734,298.2533598698412\n",
      "29400,-191590.7480621338,296.7840545813416\n",
      "29500,-192119.56768798828,295.5053302686738\n",
      "29600,-191979.15957641602,298.2489712274298\n",
      "29700,-192298.64489746094,297.42966270390883\n",
      "29800,-192097.27362060547,297.7854384987767\n",
      "29900,-192208.41436767578,304.1025135662079\n",
      "30000,-191395.10836791992,296.40163588838925\n",
      "30100,-191717.7479248047,301.34052428022596\n",
      "30200,-191273.41676330566,299.2104788953576\n",
      "30300,-191183.75312805176,298.29783432980327\n",
      "30400,-191231.50239562988,300.6960224019637\n",
      "30500,-191825.61416625977,297.4055631930916\n",
      "30600,-191126.7932434082,299.0062989564778\n",
      "30700,-191080.74865722656,302.33773494320167\n",
      "30800,-191947.45233154297,304.4891760535471\n",
      "30900,-191689.5752105713,301.2676673745351\n",
      "31000,-192332.32795715332,301.41521848466374\n",
      "31100,-192548.59600830078,299.1038465003599\n",
      "31200,-192598.40518188477,297.8464625928493\n",
      "31300,-192225.04486083984,297.24829828592067\n",
      "31400,-192430.3687133789,300.56643413224674\n",
      "31500,-192113.80361938477,297.8325366426522\n",
      "31600,-192115.1688232422,298.0418980546148\n",
      "31700,-192609.09231567383,295.98858711901835\n",
      "31800,-192638.48138427734,298.9152953100723\n",
      "31900,-192435.45391845703,299.9971680916269\n",
      "32000,-192699.90463256836,296.8991407041397\n",
      "32100,-192079.88388061523,298.90901151418956\n",
      "32200,-192361.23614501953,303.56314406628263\n",
      "32300,-192030.51216125488,301.03727437362585\n",
      "32400,-191851.71423339844,301.7382518243627\n",
      "32500,-192781.93606567383,302.6297589258326\n",
      "32600,-192690.98092651367,301.79412419347983\n",
      "32700,-191990.1060180664,300.5256006232174\n",
      "32800,-191884.8759765625,298.4175355310189\n",
      "32900,-191333.21060180664,296.0381388085522\n",
      "33000,-192013.00848388672,305.130070842548\n",
      "33100,-191664.0008544922,304.9592083734213\n",
      "33200,-191502.80508422852,300.05411686271066\n",
      "33300,-191224.04425048828,295.95011179542996\n",
      "33400,-191593.70867919922,306.20995542053913\n",
      "33500,-191529.6261138916,303.2930712476826\n",
      "33600,-191915.29922485352,304.7749387094768\n",
      "33700,-192042.2241821289,303.1732744472382\n",
      "33800,-191566.29028320312,300.47358870360216\n",
      "33900,-191801.30410766602,300.3063963444852\n",
      "34000,-191816.61990356445,300.61212919998445\n",
      "34100,-191308.63928222656,299.44985183562505\n",
      "34200,-191799.72384643555,304.4644080099321\n",
      "34300,-190423.66229248047,300.4042351777498\n",
      "34400,-191132.28201293945,305.0840630152586\n",
      "34500,-190909.75659179688,302.5103077286091\n",
      "34600,-191457.60174560547,306.78087906363123\n",
      "34700,-190743.68615722656,304.59175047027395\n",
      "34800,-190723.10040283203,303.0484223341691\n",
      "34900,-190748.46054077148,297.70077937345275\n",
      "35000,-191063.93783569336,302.1295231165647\n",
      "35100,-191155.21981811523,299.2660100683802\n",
      "35200,-191922.31744384766,305.3943010234983\n",
      "35300,-192259.55975341797,301.2220477864711\n",
      "35400,-191539.95196533203,297.34206361096716\n",
      "35500,-191604.2137145996,300.20258906037884\n",
      "35600,-191493.4503173828,296.38463394447245\n",
      "35700,-191921.28051757812,301.04868448255723\n",
      "35800,-191391.82247924805,297.9742256686073\n",
      "35900,-191472.91479492188,299.55773537200065\n",
      "36000,-192101.480178833,304.04665360623864\n",
      "36100,-191828.93408203125,299.64392657085307\n",
      "36200,-191411.3338623047,299.9293390289874\n",
      "36300,-192200.86401367188,296.92902387841673\n",
      "36400,-192038.89483642578,299.1727447041864\n",
      "36500,-191676.71600341797,297.4680289552841\n",
      "36600,-191717.77584838867,298.31027958797756\n",
      "36700,-191244.48233032227,294.76182616055644\n",
      "36800,-192058.97915649414,302.4978762618953\n",
      "36900,-191889.83879089355,300.27437354816226\n",
      "37000,-192044.8602294922,299.5563311553255\n",
      "37100,-191776.89462280273,300.04773681327043\n",
      "37200,-191997.0125732422,299.1287872762467\n",
      "37300,-191919.93641662598,299.66406662632744\n",
      "37400,-191944.544921875,301.07099931046656\n",
      "37500,-192047.93032836914,303.6925878313893\n",
      "37600,-191411.51135253906,298.7210529440594\n",
      "37700,-192297.07763671875,306.39697772737696\n",
      "37800,-192190.12297058105,302.9317932125032\n",
      "37900,-192426.9481201172,303.8416792346442\n",
      "38000,-192054.42837524414,302.76567624776925\n",
      "38100,-191680.82647705078,300.3980721225575\n",
      "38200,-191984.94577026367,296.4943032477282\n",
      "38300,-191953.0341796875,300.82360513389074\n",
      "38400,-192345.43560791016,304.85186551881657\n",
      "38500,-191822.11590576172,297.4470921275076\n",
      "38600,-191903.18646240234,295.05965926002534\n",
      "38700,-192560.53469848633,297.1000128670854\n",
      "38800,-192437.83724975586,299.6282859676678\n",
      "38900,-192442.44024658203,302.4865255290553\n",
      "39000,-191674.3175354004,299.9211012793884\n",
      "39100,-191899.90313720703,302.9210620148809\n",
      "39200,-191761.80853271484,299.60999551920406\n",
      "39300,-192260.7788696289,300.13830388631374\n",
      "39400,-192119.87860107422,302.9761996149425\n",
      "39500,-191261.8533630371,296.4129613356416\n",
      "39600,-191672.0994873047,299.6871240068505\n",
      "39700,-191691.0737915039,304.8241268211588\n",
      "39800,-191902.26434326172,301.13219464622307\n",
      "39900,-191628.7989501953,299.7081907250868\n",
      "40000,-191010.08532714844,293.2993022693233\n"
     ]
    }
   ],
   "source": [
    "# Uncomment the blow line to use GPU accelleration\n",
    "#platform = Platform.getPlatformByName('CUDA')\n",
    "\n",
    "# setting of the chemical system\n",
    "system = forcefield.createSystem(modeller.topology, nonbondedMethod=NoCutoff,\n",
    "        nonbondedCutoff=1*nanometer, constraints=HBonds)\n",
    "\n",
    "# settings for how bit the timestep should be\n",
    "integrator = LangevinMiddleIntegrator(300*kelvin, 1/picosecond, 0.004*picoseconds)\n",
    "\n",
    "# Collect everything together to make a simulation instance\n",
    "simulation = Simulation(modeller.topology, system, integrator)\n",
    "\n",
    "# Set starting positions\n",
    "simulation.context.setPositions(modeller.positions)\n",
    "simulation.minimizeEnergy()\n",
    "\n",
    "# Add a PDB reporter to the simulation\n",
    "simulation.reporters.append(PDBReporter('assets/cookbook/hydrated_topolgy.pdb', 1))\n",
    "\n",
    "\n",
    "# Run one step to write the first frame\n",
    "simulation.step(1)\n",
    "\n",
    "# Remove the PDB reporter\n",
    "simulation.reporters = [reporter for reporter in simulation.reporters if not isinstance(reporter, PDBReporter)]\n",
    "\n",
    "\n",
    "# File location to save output and how often to save\n",
    "simulation.reporters.append(DCDReporter('assets/cookbook/first_output.dcd', 25))\n",
    "simulation.reporters.append(XTCReporter('assets/cookbook/first_output.xtc', 25))\n",
    "\n",
    "\n",
    "# Report the physical properties\n",
    "simulation.reporters.append(StateDataReporter(stdout, 100, step=True,\n",
    "        potentialEnergy=True, temperature=True))\n",
    "\n",
    "# # Number of steps to run\n",
    "simulation.step(40000)\n",
    "\n"
   ]
  },
  {
   "cell_type": "markdown",
   "id": "038723f5-92a1-4d6c-9c66-5b296664c566",
   "metadata": {},
   "source": [
    "# Analysing the output\n",
    "\n",
    "Notice that every 100 steps that we get a report on the state of the system\". It takes around 1000 steps to reach our target temperature."
   ]
  },
  {
   "cell_type": "code",
   "execution_count": 135,
   "id": "85fb8b08-97f9-4ac7-910f-dc280cac072e",
   "metadata": {
    "tags": []
   },
   "outputs": [
    {
     "name": "stdout",
     "output_type": "stream",
     "text": [
      "Trajectory has 1600 frames\n"
     ]
    },
    {
     "data": {
      "application/vnd.jupyter.widget-view+json": {
       "model_id": "1a5df714b9944e1e8c3990a33f4dd454",
       "version_major": 2,
       "version_minor": 0
      },
      "text/plain": [
       "NGLWidget(max_frame=1599)"
      ]
     },
     "metadata": {},
     "output_type": "display_data"
    }
   ],
   "source": [
    "import mdtraj as md\n",
    "import nglview as nv\n",
    "\n",
    "import MDAnalysis as mda\n",
    "\n",
    "\n",
    "traj = nv.SimpletrajTrajectory(\"assets/cookbook/first_output.xtc\", \"assets/cookbook/hydrated_topolgy.pdb\")\n",
    "print(f\"Trajectory has {traj.n_frames} frames\")\n",
    "viewtraj = nv.show_simpletraj(traj)\n",
    "viewtraj.add_unitcell()\n",
    "viewtraj.clear_representations()\n",
    "viewtraj.add_representation(\"ribbon\",color_scheme=\"residueindex\")\n",
    "viewtraj.add_ball_and_stick(\"ligand\")\n",
    "viewtraj "
   ]
  },
  {
   "cell_type": "code",
   "execution_count": null,
   "id": "2ae12544-dd17-4774-8d13-b19bce922972",
   "metadata": {},
   "outputs": [],
   "source": []
  }
 ],
 "metadata": {
  "kernelspec": {
   "display_name": "Python 3 (ipykernel)",
   "language": "python",
   "name": "python3"
  },
  "language_info": {
   "codemirror_mode": {
    "name": "ipython",
    "version": 3
   },
   "file_extension": ".py",
   "mimetype": "text/x-python",
   "name": "python",
   "nbconvert_exporter": "python",
   "pygments_lexer": "ipython3",
   "version": "3.10.13"
  }
 },
 "nbformat": 4,
 "nbformat_minor": 5
}
